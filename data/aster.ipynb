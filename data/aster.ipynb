{
 "cells": [
  {
   "cell_type": "markdown",
   "metadata": {},
   "source": [
    "## Accessing ASTER data on Azure\n",
    "\n",
    "This notebook demonstrates basic access to ASTER data on Azure, using the NASA CMR API to query for tiles, then accessing the tiles on Azure blob storage.\n",
    "\n",
    "This data set is stored in the West Europe Azure region, so this notebook will run most efficiently on Azure compute located in West Europe.  We recommend that substantial computation depending on this data also be situated in West Europe.  You don't want to download hundreds of terabytes to your laptop!  If you are using this data for environmental science applications, consider applying for an [AI for Earth grant](http://aka.ms/ai4egrants) to support your compute requirements."
   ]
  },
  {
   "cell_type": "markdown",
   "metadata": {},
   "source": [
    "### Imports"
   ]
  },
  {
   "cell_type": "code",
   "execution_count": 16,
   "metadata": {},
   "outputs": [],
   "source": [
    "import re\n",
    "import os\n",
    "import datetime\n",
    "import progressbar\n",
    "import tempfile\n",
    "import urllib\n",
    "import shutil\n",
    "import numpy as np\n",
    "import matplotlib.pyplot as plt\n",
    "\n",
    "import rasterio\n",
    "from rasterio.windows import Window\n",
    "from pyproj import Transformer        \n",
    "from azure.storage.blob import ContainerClient\n",
    "\n",
    "from cmr import GranuleQuery"
   ]
  },
  {
   "cell_type": "markdown",
   "metadata": {},
   "source": [
    "### Constants"
   ]
  },
  {
   "cell_type": "code",
   "execution_count": 34,
   "metadata": {},
   "outputs": [],
   "source": [
    "# Let's take a look at an area in Japan that looks interesting in the VNIR bands\n",
    "query_lat = 35.08409151423969\n",
    "query_lon = 138.55814925655318\n",
    "query_short_name = 'AST_L1T'\n",
    "\n",
    "query_start_date = datetime.datetime(2002, 1, 1, 0, 0, 0)\n",
    "query_end_date = datetime.datetime(2004, 12, 1, 0, 0, 0)\n",
    "\n",
    "# Which image type (SWIR, TIR, VNIR) should we render?\n",
    "image_type = 'VNIR'"
   ]
  },
  {
   "cell_type": "markdown",
   "metadata": {},
   "source": [
    "### Azure storage location constants"
   ]
  },
  {
   "cell_type": "code",
   "execution_count": 24,
   "metadata": {},
   "outputs": [],
   "source": [
    "storage_account_name = 'astersa'\n",
    "container_name = 'aster'\n",
    "storage_account_url = \\\n",
    "  'https://' + storage_account_name + '.blob.core.windows.net/'\n",
    "\n",
    "# Read-only SAS token, provided as part of the container documentation\n",
    "ro_sas_token = '?sv=2020-04-08&si=aster-ro&sr=c&sig=sXo9shWJec3H6ezpLPuYo7gVpM%2Bj0jLL0fa7jv%2FUe1M%3D'\n",
    "\n",
    "container_client = ContainerClient(account_url=storage_account_url, \n",
    "                                             container_name=container_name, credential=ro_sas_token)"
   ]
  },
  {
   "cell_type": "markdown",
   "metadata": {},
   "source": [
    "### Search for granules"
   ]
  },
  {
   "cell_type": "code",
   "execution_count": 25,
   "metadata": {},
   "outputs": [
    {
     "name": "stdout",
     "output_type": "stream",
     "text": [
      "Found 54 matching granules\n"
     ]
    }
   ],
   "source": [
    "api = GranuleQuery()\n",
    "granules = api.short_name(query_short_name).point(query_lon,query_lat).temporal(query_start_date, query_end_date).get()\n",
    "\n",
    "print('Found {} matching granules'.format(len(granules)))"
   ]
  },
  {
   "cell_type": "markdown",
   "metadata": {},
   "source": [
    "### Grab the granule with the lowest cloud cover"
   ]
  },
  {
   "cell_type": "code",
   "execution_count": 26,
   "metadata": {},
   "outputs": [
    {
     "name": "stdout",
     "output_type": "stream",
     "text": [
      "AST_L1T_00310042002014048_20150425134514_6769\n"
     ]
    }
   ],
   "source": [
    "# Sort by cloud cover\n",
    "for granule in granules:\n",
    "    granule['cloud_cover'] = float(granule['cloud_cover'])\n",
    "granules = sorted(granules, key=lambda k: k['cloud_cover'])\n",
    "granule = granules[0]\n",
    "print(granule['producer_granule_id'])"
   ]
  },
  {
   "cell_type": "markdown",
   "metadata": {},
   "source": [
    "### Prepare the scene prefix"
   ]
  },
  {
   "cell_type": "code",
   "execution_count": 28,
   "metadata": {},
   "outputs": [
    {
     "name": "stdout",
     "output_type": "stream",
     "text": [
      "Found {} matching images:\n",
      "images/L1T/2002/10/04/AST_L1T_00310042002014048_20150425134514_6769.SWIR.tif\n",
      "images/L1T/2002/10/04/AST_L1T_00310042002014048_20150425134514_6769.TIR.tif\n",
      "images/L1T/2002/10/04/AST_L1T_00310042002014048_20150425134514_6769.VNIR.tif\n"
     ]
    }
   ],
   "source": [
    "# For the product:\n",
    "#\n",
    "# AST_L1T_00301152004192004_20150502205642_77732\n",
    "#    \n",
    "# Our path is:\n",
    "#    \n",
    "# https://astersa.blob.core.windows.net/aster/images/L1T/2004/01/15/AST_L1T_00301152004192004_20150502205642_77732.hdf\n",
    "#\n",
    "# images/L1T/2004/01/15/AST_L1T_00301152004192004_20150502205642_77732.hdf\n",
    "#\n",
    "\n",
    "granule_id = granule['producer_granule_id']\n",
    "assert granule_id[0:11] == 'AST_L1T_003'\n",
    "\n",
    "# E.g. 01152004\n",
    "granule_date_string = granule_id[11:19]\n",
    "\n",
    "granule_month = granule_date_string[0:2]\n",
    "granule_day = granule_date_string[2:4]\n",
    "granule_year = granule_date_string[4:8]\n",
    "\n",
    "azure_scene_prefix = '/'.join(['images','L1T',granule_year,granule_month,granule_day,granule_id])\n",
    "\n",
    "# List all files matching this prefix\n",
    "generator = container_client.list_blobs(name_starts_with=azure_scene_prefix)\n",
    "image_paths = [blob.name for blob in generator if blob.name.endswith('.tif')]\n",
    "print('Found {} matching images:')\n",
    "for s in image_paths:\n",
    "    print(s)"
   ]
  },
  {
   "cell_type": "markdown",
   "metadata": {},
   "source": [
    "### Convert to URLs"
   ]
  },
  {
   "cell_type": "code",
   "execution_count": 31,
   "metadata": {},
   "outputs": [
    {
     "name": "stdout",
     "output_type": "stream",
     "text": [
      "https://astersa.blob.core.windows.net/aster/images/L1T/2002/10/04/AST_L1T_00310042002014048_20150425134514_6769.SWIR.tif\n",
      "https://astersa.blob.core.windows.net/aster/images/L1T/2002/10/04/AST_L1T_00310042002014048_20150425134514_6769.TIR.tif\n",
      "https://astersa.blob.core.windows.net/aster/images/L1T/2002/10/04/AST_L1T_00310042002014048_20150425134514_6769.VNIR.tif\n"
     ]
    }
   ],
   "source": [
    "image_urls = [storage_account_url + container_name + '/' + p for p in image_paths]\n",
    "for s in image_urls:\n",
    "    print(s)"
   ]
  },
  {
   "cell_type": "markdown",
   "metadata": {},
   "source": [
    "### Render COG previews without reading the whole file"
   ]
  },
  {
   "cell_type": "code",
   "execution_count": 33,
   "metadata": {},
   "outputs": [
    {
     "data": {
      "image/png": "[encoded data removed]",
      "text/plain": [
       "<Figure size 432x288 with 3 Axes>"
      ]
     },
     "metadata": {
      "needs_background": "light"
     },
     "output_type": "display_data"
    }
   ],
   "source": [
    "thumbnail_data = []\n",
    "\n",
    "# url = azure_cog_urls[0]\n",
    "for url in image_urls:\n",
    "    \n",
    "    # From:\n",
    "    #\n",
    "    # https://automating-gis-processes.github.io/CSC/notebooks/L5/read-cogs.html\n",
    "    with rasterio.open(url) as raster:\n",
    "        \n",
    "        # List of overviews from biggest to smallest\n",
    "        oviews = raster.overviews(1)\n",
    "    \n",
    "        # Retrieve the smallest thumbnail\n",
    "        decimation_level = oviews[-1]\n",
    "        h = int(raster.height/decimation_level)\n",
    "        w = int(raster.width/decimation_level)\n",
    "        \n",
    "        thumbnail_channel = raster.read(1, out_shape=(1, h, w))\n",
    "        thumbnail_data.append(thumbnail_channel)\n",
    "\n",
    "fig, axes = plt.subplots(1, 3)\n",
    "\n",
    "for i,d in enumerate(thumbnail_data):\n",
    "    axes[i].imshow(d)"
   ]
  },
  {
   "cell_type": "markdown",
   "metadata": {},
   "source": [
    "### Choose one image file to render"
   ]
  },
  {
   "cell_type": "code",
   "execution_count": 38,
   "metadata": {},
   "outputs": [
    {
     "name": "stdout",
     "output_type": "stream",
     "text": [
      "Rendering image:\n",
      "https://astersa.blob.core.windows.net/aster/images/L1T/2002/10/04/AST_L1T_00310042002014048_20150425134514_6769.VNIR.tif\n"
     ]
    }
   ],
   "source": [
    "url = None\n",
    "for s in image_urls:\n",
    "    if image_type in s:\n",
    "        url = s\n",
    "        break\n",
    "assert url is not None \n",
    "print('Rendering image:\\n{}'.format(url))"
   ]
  },
  {
   "cell_type": "markdown",
   "metadata": {},
   "source": [
    "### Make an RGB composite"
   ]
  },
  {
   "cell_type": "code",
   "execution_count": 54,
   "metadata": {},
   "outputs": [
    {
     "name": "stdout",
     "output_type": "stream",
     "text": [
      "Tile is 5725 x 5119\n",
      "0\n"
     ]
    },
    {
     "data": {
      "image/png": "[encoded data removed]",
      "text/plain": [
       "<Figure size 432x288 with 1 Axes>"
      ]
     },
     "metadata": {
      "needs_background": "light"
     },
     "output_type": "display_data"
    }
   ],
   "source": [
    "# Downscaling factor used when rendering whole-tile composite\n",
    "dsfactor = 3\n",
    "\n",
    "# Bands to use for RGB composite\n",
    "bands = [3,2,1]\n",
    "\n",
    "# Normalization value per channel\n",
    "norm_value_composite = [100,100,100]\n",
    "norm_value_composite = [1,1,1]\n",
    "\n",
    "image_data = []\n",
    "\n",
    "with rasterio.open(url,'r') as src:\n",
    "    \n",
    "    h = int(src.height//dsfactor)\n",
    "    w = int(src.width//dsfactor)\n",
    "    \n",
    "    print('Tile is {} x {}'.format(src.width,src.height))\n",
    "\n",
    "    assert src.count >= len(bands)\n",
    "    \n",
    "    for i,band in enumerate(bands):\n",
    "        band_array = src.read(band, out_shape=(1, h, w))\n",
    "        band_array = band_array # / norm_value_composite[i]\n",
    "        image_data.append(band_array)\n",
    "    src.close()\n",
    "        \n",
    "rgb = np.dstack((image_data[0],image_data[1],image_data[2]))\n",
    "# np.clip(rgb,0,1,rgb)\n",
    "plt.imshow(rgb)  \n",
    "print(np.max(image_data[2]))"
   ]
  },
  {
   "cell_type": "code",
   "execution_count": null,
   "metadata": {},
   "outputs": [],
   "source": [
    "# An ASTER RGB composite recommendation I found in this paper, which has really pretty figures:\n",
    "#\n",
    "# Bakardjiev D, Popov K. ASTER spectral band ratios for detection of hydrothermal alterations and ore\n",
    "# deposits in the Panagyurishte Ore Region, Central Srednogorie, Bulgaria. Review of the Bulgarian\n",
    "# Geological Society. 2015 Jan 1;76(part 1):79-88.\n",
    "#\n",
    "rgb_bands = ['ImageData12','ImageData3N','ImageData5']\n",
    "\n",
    "# First resample all three channels to the same size, since they may have\n",
    "# come from different sensors.\n",
    "x_sizes = [(all_bands[b].shape[0]) for b in rgb_bands]\n",
    "min_x_index = x_sizes.index(min(x_sizes))\n",
    "\n",
    "target_x_size = all_bands[rgb_bands[min_x_index]].shape[0]\n",
    "target_y_size = all_bands[rgb_bands[min_x_index]].shape[1]\n",
    "\n",
    "resized_band_values = []\n",
    "for i_band,band_name in enumerate(rgb_bands):\n",
    "    d = all_bands[band_name]\n",
    "    resized_d = cv2.resize(d, dsize=(target_x_size, target_y_size), interpolation=cv2.INTER_CUBIC)\n",
    "    # Normalize each band\n",
    "    resized_d = resized_d / np.max(resized_d)\n",
    "    resized_band_values.append(resized_d)\n",
    "\n",
    "rgb = np.dstack((resized_band_values[0],resized_band_values[1],resized_band_values[2]))\n",
    "np.clip(rgb,0,1,rgb)\n",
    "plt.imshow(rgb)"
   ]
  },
  {
   "cell_type": "markdown",
   "metadata": {},
   "source": [
    "### Clean up temporary files"
   ]
  },
  {
   "cell_type": "code",
   "execution_count": null,
   "metadata": {},
   "outputs": [],
   "source": [
    "shutil.rmtree(temp_dir)"
   ]
  }
 ],
 "metadata": {
  "kernelspec": {
   "display_name": "Python 3",
   "language": "python",
   "name": "python3"
  },
  "language_info": {
   "codemirror_mode": {
    "name": "ipython",
    "version": 3
   },
   "file_extension": ".py",
   "mimetype": "text/x-python",
   "name": "python",
   "nbconvert_exporter": "python",
   "pygments_lexer": "ipython3",
   "version": "3.7.7"
  }
 },
 "nbformat": 4,
 "nbformat_minor": 4
}
