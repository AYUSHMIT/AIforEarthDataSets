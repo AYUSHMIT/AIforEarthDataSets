{
 "cells": [
  {
   "cell_type": "markdown",
   "metadata": {},
   "source": [
    "## Accessing NetCDF-formatted Daymet data on Azure\n",
    "\n",
    "The [Daymet](https://daymet.ornl.gov/) dataset contains daily minimum temperature, maximum temperature, precipitation, shortwave radiation, vapor pressure, snow water equivalent, and day length at 1km resolution for North America. The dataset covers the period from January 1, 1980 to December 31, 2019.\n",
    "\n",
    "Daymet is available in both NetCDF and Zarr format on Azure; this notebook demonstrates access to the NetCDF data.\n",
    "\n",
    "This dataset is stored in the West Europe Azure region, so this notebook will run most efficiently on Azure compute located in the same region.  If you are using this data for environmental science applications, consider applying for an [AI for Earth grant](http://aka.ms/ai4egrants) to support your compute requirements.\n",
    "\n",
    "This dataset is documented at [aka.ms/ai4edata-daymet](http://aka.ms/ai4edata-daymet)."
   ]
  },
  {
   "cell_type": "markdown",
   "metadata": {},
   "source": [
    "### Imports"
   ]
  },
  {
   "cell_type": "code",
   "execution_count": 1,
   "metadata": {},
   "outputs": [],
   "source": [
    "# Standard or standard-ish imports\n",
    "import os\n",
    "import tempfile\n",
    "import shutil\n",
    "import numpy as np\n",
    "import matplotlib.pyplot as plt\n",
    "import urllib.request\n",
    "\n",
    "# Less standard, but still pip- or conda-installable\n",
    "import fsspec\n",
    "import xarray as xr\n",
    "from azure.storage.blob import ContainerClient\n",
    "\n",
    "# Not used directly, but needs to be installed to read NetCDF files with xarray\n",
    "import h5netcdf"
   ]
  },
  {
   "cell_type": "markdown",
   "metadata": {},
   "source": [
    "### Constants"
   ]
  },
  {
   "cell_type": "code",
   "execution_count": 2,
   "metadata": {},
   "outputs": [],
   "source": [
    "# Pick a region, year, and variable to explore \n",
    "region = 'hi' # na, hi, pr\n",
    "year = '2019'\n",
    "variable = 'tmax' # tmax, tmin, precp, srad, vp, swe, dayl\n",
    "frequency = 'daily'\n",
    "\n",
    " # 'daily' for daily data, 'monttl' or 'monavg' for monthly data, 'annttl' or 'annavg' for annual data\n",
    "aggregation = 'daily'\n",
    "\n",
    "storage_account_name = 'daymeteuwest'\n",
    "container_name = 'daymet-nc'\n",
    "storage_account_url = 'https://' + storage_account_name + '.blob.core.windows.net/'"
   ]
  },
  {
   "cell_type": "markdown",
   "metadata": {},
   "source": [
    "### List the available Daymet files for the frequency, region, and year of interest\n",
    "\n",
    "We're going to build the URL directly in the next cell, this is purely for illustrating container structure."
   ]
  },
  {
   "cell_type": "code",
   "execution_count": 3,
   "metadata": {},
   "outputs": [
    {
     "name": "stdout",
     "output_type": "stream",
     "text": [
      "Blob name: daymet_v4_daily/daymet_v4_daily_hi_dayl_2019.nc\n",
      "Blob name: daymet_v4_daily/daymet_v4_daily_hi_prcp_2019.nc\n",
      "Blob name: daymet_v4_daily/daymet_v4_daily_hi_srad_2019.nc\n",
      "Blob name: daymet_v4_daily/daymet_v4_daily_hi_swe_2019.nc\n",
      "Blob name: daymet_v4_daily/daymet_v4_daily_hi_tmax_2019.nc\n",
      "Blob name: daymet_v4_daily/daymet_v4_daily_hi_tmin_2019.nc\n",
      "Blob name: daymet_v4_daily/daymet_v4_daily_hi_vp_2019.nc\n"
     ]
    }
   ],
   "source": [
    "# List the blobs in the container\n",
    "container_client = ContainerClient(account_url=storage_account_url, \n",
    "                                         container_name=container_name,\n",
    "                                         credential=None)\n",
    "\n",
    "generator = container_client.list_blobs()\n",
    "for blob in generator:\n",
    "    if region in blob.name and year in blob.name and frequency in blob.name:\n",
    "        print('Blob name: ' + blob.name)"
   ]
  },
  {
   "cell_type": "markdown",
   "metadata": {},
   "source": [
    "### Choose a specific file"
   ]
  },
  {
   "cell_type": "code",
   "execution_count": 5,
   "metadata": {},
   "outputs": [
    {
     "name": "stdout",
     "output_type": "stream",
     "text": [
      "Processing data from:\n",
      "https://daymeteuwest.blob.core.windows.net/daymet-nc/daymet_v4_daily/daymet_v4_daily_hi_tmax_2019.nc\n"
     ]
    }
   ],
   "source": [
    "if frequency == 'daily':\n",
    "    granule_name = 'daymet_v4_daily' + '/' + 'daymet_v4_daily_' + \\\n",
    "    region + '_' + variable + '_' + year + '.nc'\n",
    "else:\n",
    "    granule_name = 'daymet_v4_' + frequency + '/' + 'daymet_v4_' + \\\n",
    "    variable + '_' + aggregation + '_' + region + '_' + year + '.nc'\n",
    "url = storage_account_url + container_name + '/' + granule_name\n",
    "print('Processing data from:\\n{}'.format(url))"
   ]
  },
  {
   "cell_type": "markdown",
   "metadata": {},
   "source": [
    "### Open the file and print metadata"
   ]
  },
  {
   "cell_type": "code",
   "execution_count": 6,
   "metadata": {},
   "outputs": [
    {
     "name": "stdout",
     "output_type": "stream",
     "text": [
      "<xarray.Dataset>\n",
      "Dimensions:                  (nv: 2, time: 365, x: 284, y: 584)\n",
      "Coordinates:\n",
      "  * x                        (x) float32 -5.802e+06 -5.801e+06 ... -5.519e+06\n",
      "  * y                        (y) float32 -3.9e+04 -4e+04 ... -6.21e+05 -6.22e+05\n",
      "    lat                      (y, x) float32 ...\n",
      "    lon                      (y, x) float32 ...\n",
      "  * time                     (time) datetime64[ns] 2019-01-01T12:00:00 ... 20...\n",
      "Dimensions without coordinates: nv\n",
      "Data variables:\n",
      "    yearday                  (time) int16 ...\n",
      "    time_bnds                (time, nv) datetime64[ns] ...\n",
      "    lambert_conformal_conic  int16 ...\n",
      "    tmax                     (time, y, x) float32 ...\n",
      "Attributes:\n",
      "    start_year:        [2019]\n",
      "    source:            Daymet Software Version 4.0\n",
      "    Version_software:  Daymet Software Version 4.0\n",
      "    Version_data:      Daymet Data Version 4.0\n",
      "    Conventions:       CF-1.6\n",
      "    citation:          Please see http://daymet.ornl.gov/ for current Daymet ...\n",
      "    references:        Please see http://daymet.ornl.gov/ for current informa...\n"
     ]
    }
   ],
   "source": [
    "with fsspec.open(url) as f:\n",
    "    ds = xr.open_dataset(f)\n",
    "print(ds)"
   ]
  },
  {
   "cell_type": "markdown",
   "metadata": {},
   "source": [
    "### Plot the mean of this variable"
   ]
  },
  {
   "cell_type": "code",
   "execution_count": 8,
   "metadata": {
    "scrolled": true
   },
   "outputs": [
    {
     "data": {
      "image/png": "[encoded data removed]",
      "text/plain": [
       "<Figure size 432x288 with 2 Axes>"
      ]
     },
     "metadata": {
      "needs_background": "light"
     },
     "output_type": "display_data"
    }
   ],
   "source": [
    "# Read the whole array\n",
    "data = ds[variable]\n",
    "\n",
    "# Calculate mean\n",
    "data_mean = np.mean(data, axis=0)\n",
    "\n",
    "# Plot\n",
    "fig = plt.figure(frameon=False); ax = plt.Axes(fig,[0., 0., 1., 1.]); \n",
    "ax.set_axis_off(); fig.add_axes(ax)\n",
    "plt.imshow(data_mean, cmap='rainbow')\n",
    "plt.colorbar();"
   ]
  }
 ],
 "metadata": {
  "kernelspec": {
   "display_name": "Python 3",
   "language": "python",
   "name": "python3"
  },
  "language_info": {
   "codemirror_mode": {
    "name": "ipython",
    "version": 3
   },
   "file_extension": ".py",
   "mimetype": "text/x-python",
   "name": "python",
   "nbconvert_exporter": "python",
   "pygments_lexer": "ipython3",
   "version": "3.7.7"
  }
 },
 "nbformat": 4,
 "nbformat_minor": 2
}
