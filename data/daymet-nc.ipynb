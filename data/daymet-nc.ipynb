{
 "cells": [
  {
   "cell_type": "markdown",
   "metadata": {},
   "source": [
    "## Demo notebook for accessing Daymet data on Azure\n",
    "\n",
    "The Daymet dataset contains daily minimum temperature, maximum temperature, precipitation, shortwave radiation, vapor pressure, snow water equivalent, and day length at 1km resolution for North America. The dataset covers the period from January 1, 1980 to December 31, 2019.\n",
    "\n",
    "Daymet is available in both NetCDF and Zarr format on Azure; this notebook demonstrates access to the NetCDF data.\n",
    "\n",
    "Daymet data are stored in the West Europe Azure region, so this notebook will run most efficiently on Azure compute located in West Europe.  We recommend that substantial computation depending on Daymet data also be situated in West Europe.  You don't want to download terabytes of data to your laptop!  If you are using Daymet data for environmental science applications, consider applying for an [AI for Earth grant](http://aka.ms/ai4egrants) to support your compute requirements."
   ]
  },
  {
   "cell_type": "code",
   "execution_count": 1,
   "metadata": {},
   "outputs": [],
   "source": [
    "# Standard or standard-ish imports\n",
    "import os\n",
    "import tempfile\n",
    "import shutil\n",
    "import numpy as np\n",
    "import matplotlib.pyplot as plt\n",
    "import urllib.request\n",
    "\n",
    "# Less standard, but still pip- or conda-installable\n",
    "import netCDF4 as nc \n",
    "\n",
    "from azure.storage.blob import ContainerClient\n",
    "from netCDF4 import Dataset\n",
    "\n",
    "container_name = 'daymet'\n",
    "daymet_azure_storage_url = 'https://daymeteuwest.blob.core.windows.net/'\n",
    "\n",
    "daymet_container_client = ContainerClient(account_url=daymet_azure_storage_url, \n",
    "                                         container_name=container_name,\n",
    "                                         credential=None)\n",
    "\n",
    "# Temporary folder for data we need during execution of this notebook (we'll clean up\n",
    "# at the end, we promise)\n",
    "temp_dir = os.path.join(tempfile.gettempdir(),'daymet')\n",
    "os.makedirs(temp_dir,exist_ok=True)"
   ]
  },
  {
   "cell_type": "markdown",
   "metadata": {},
   "source": [
    "### Support functions"
   ]
  },
  {
   "cell_type": "code",
   "execution_count": 2,
   "metadata": {},
   "outputs": [],
   "source": [
    "def download_url(url, destination_filename=None, progress_updater=None, force_download=False):\n",
    "    \"\"\"\n",
    "    Download a URL to a temporary file\n",
    "    \"\"\"\n",
    "    \n",
    "    # This is not intended to guarantee uniqueness, we just know it happens to guarantee\n",
    "    # uniqueness for this application.\n",
    "    if destination_filename is None:\n",
    "        url_as_filename = url.replace('://', '_').replace('.', '_').replace('/', '_')\n",
    "        destination_filename = \\\n",
    "            os.path.join(temp_dir,url_as_filename)\n",
    "    if (not force_download) and (os.path.isfile(destination_filename)):\n",
    "        print('Bypassing download of already-downloaded file {}'.format(os.path.basename(url)))\n",
    "        return destination_filename\n",
    "    print('Downloading file {}'.format(os.path.basename(url)),end='')\n",
    "    urllib.request.urlretrieve(url, destination_filename, progress_updater)  \n",
    "    assert(os.path.isfile(destination_filename))\n",
    "    nBytes = os.path.getsize(destination_filename)\n",
    "    print('...done, {} bytes.'.format(nBytes))\n",
    "    return destination_filename"
   ]
  },
  {
   "cell_type": "markdown",
   "metadata": {},
   "source": [
    "### List the available Daymet files\n",
    "The Daymet dataset is available for anonymous public download on Azure.  The following code shows how to list all data files that are currently available, trimmed to a specific region (hawaii, na, puertorico) and year for brevity."
   ]
  },
  {
   "cell_type": "code",
   "execution_count": 3,
   "metadata": {},
   "outputs": [
    {
     "name": "stdout",
     "output_type": "stream",
     "text": [
      "Blob name: daymet_v3_dayl_2019_hawaii.nc4\n",
      "Blob name: daymet_v3_prcp_2019_hawaii.nc4\n",
      "Blob name: daymet_v3_srad_2019_hawaii.nc4\n",
      "Blob name: daymet_v3_swe_2019_hawaii.nc4\n",
      "Blob name: daymet_v3_tmax_2019_hawaii.nc4\n",
      "Blob name: daymet_v3_tmin_2019_hawaii.nc4\n",
      "Blob name: daymet_v3_vp_2019_hawaii.nc4\n"
     ]
    }
   ],
   "source": [
    "# Hawaii sounds nice...\n",
    "state_of_interest = 'hawaii'\n",
    "year_of_interest = '2019'\n",
    "\n",
    "# List the blobs in the container\n",
    "generator = daymet_container_client.list_blobs()\n",
    "for blob in generator:\n",
    "    if state_of_interest in blob.name and year_of_interest in blob.name:\n",
    "        print('Blob name: ' + blob.name)"
   ]
  },
  {
   "cell_type": "markdown",
   "metadata": {},
   "source": [
    "### Download a specific file from Azure blob storage\n",
    "This code shows how to download a specific file from Azure blob storage into the current directory.  It uses the example file daymet_v3_tmax_1980_hawaii.nc4, but you can change this as described below.  \n",
    "\n",
    "The following types of data are available: minimum temperature (tmin), maximum temperature (tmax), precipitation (prcp), shortwave radiation (srad), vapor pressure (vp), snow water equivalent (swe), and day length (dayl).  \n"
   ]
  },
  {
   "cell_type": "code",
   "execution_count": 4,
   "metadata": {},
   "outputs": [
    {
     "name": "stdout",
     "output_type": "stream",
     "text": [
      "https://daymeteuwest.blob.core.windows.net/daymet/daymet_v3_tmax_2019_hawaii.nc4\n",
      "Downloading file daymet_v3_tmax_2019_hawaii.nc4...done, 5796318 bytes.\n"
     ]
    }
   ],
   "source": [
    "variable = 'tmax'\n",
    "year = '2019'\n",
    "\n",
    "# Choose your location.  The following are available: hawaii, na, puertorico.  The value 'na' stands for North America.\n",
    "location = 'hawaii'\n",
    "\n",
    "granule_name = 'daymet_v3_' + variable + '_' + year + '_' + location + '.nc4'\n",
    "url = daymet_azure_storage_url + container_name + '/' + granule_name\n",
    "print(url)\n",
    "filename = download_url(url)"
   ]
  },
  {
   "cell_type": "markdown",
   "metadata": {},
   "source": [
    "### Explore the NetCDF metadata"
   ]
  },
  {
   "cell_type": "code",
   "execution_count": 5,
   "metadata": {},
   "outputs": [
    {
     "name": "stdout",
     "output_type": "stream",
     "text": [
      "netCDF file format: NETCDF4_CLASSIC\n",
      "netCDF dimensions:\n",
      "dict_keys(['x', 'y', 'time', 'nv'])\n",
      "\n",
      "time dimension:\n",
      "<class 'netCDF4._netCDF4.Dimension'> (unlimited): name = 'time', size = 365\n",
      "x dimension:\n",
      "<class 'netCDF4._netCDF4.Dimension'>: name = 'x', size = 284\n",
      "y dimension:\n",
      "<class 'netCDF4._netCDF4.Dimension'>: name = 'y', size = 584\n",
      "netCDF variables:\n",
      "dict_keys(['x', 'y', 'lat', 'lon', 'time', 'yearday', 'time_bnds', 'lambert_conformal_conic', 'tmax'])\n",
      "\n",
      "tmax variable and attributes:\n",
      "<class 'netCDF4._netCDF4.Variable'>\n",
      "float32 tmax(time, y, x)\n",
      "    _FillValue: -9999.0\n",
      "    long_name: daily maximum temperature\n",
      "    units: degrees C\n",
      "    missing_value: -9999.0\n",
      "    coordinates: lat lon\n",
      "    grid_mapping: lambert_conformal_conic\n",
      "    cell_methods: area: mean time: maximum\n",
      "unlimited dimensions: time\n",
      "current shape = (365, 584, 284)\n",
      "filling off\n"
     ]
    }
   ],
   "source": [
    "daymet_ds = Dataset(filename, 'r') \n",
    "print('netCDF file format:' + ' ' + daymet_ds.file_format)\n",
    "\n",
    "print('netCDF dimensions:')\n",
    "print(daymet_ds.dimensions.keys())\n",
    "print('\\ntime dimension:')\n",
    "print(daymet_ds.dimensions['time'])\n",
    "print('x dimension:')\n",
    "print(daymet_ds.dimensions['x'])\n",
    "print('y dimension:')\n",
    "print(daymet_ds.dimensions['y'])\n",
    "print('netCDF variables:')\n",
    "print(daymet_ds.variables.keys())\n",
    "print('\\n' + variable + ' variable and attributes:')\n",
    "print(daymet_ds.variables[variable])"
   ]
  },
  {
   "cell_type": "markdown",
   "metadata": {},
   "source": [
    "### Plot temperature data\n",
    "Let's calculate the mean value for the variable that we care about, and then visualize this on a map.  If you have kept the defaults above, this is the maximum temperature.  "
   ]
  },
  {
   "cell_type": "code",
   "execution_count": 6,
   "metadata": {
    "scrolled": true
   },
   "outputs": [
    {
     "data": {
      "text/plain": [
       "<matplotlib.colorbar.Colorbar at 0x7f31477dd2d0>"
      ]
     },
     "execution_count": 6,
     "metadata": {},
     "output_type": "execute_result"
    },
    {
     "data": {
      "image/png": "[encoded data removed]",
      "text/plain": [
       "<Figure size 1800x648 with 2 Axes>"
      ]
     },
     "metadata": {
      "needs_background": "light"
     },
     "output_type": "display_data"
    }
   ],
   "source": [
    "# Read the whole array\n",
    "factor = daymet_ds.variables[variable][:]\n",
    "\n",
    "# Calculate mean\n",
    "factor_mean_comp = np.mean(factor, axis=0, keepdims=True)\n",
    "\n",
    "# Reshape \n",
    "x_size = daymet_ds.dimensions['x'].size\n",
    "y_size = daymet_ds.dimensions['y'].size\n",
    "factor_mean_comp.shape = (y_size,x_size)\n",
    "\n",
    "# Plot\n",
    "%matplotlib inline\n",
    "plt.rcParams['figure.figsize'] = (25,9)\n",
    "plt.imshow(factor_mean_comp, cmap='rainbow')\n",
    "plt.colorbar()"
   ]
  },
  {
   "cell_type": "markdown",
   "metadata": {},
   "source": [
    "### Time conversion\n",
    "Convert the time axis to a more human-readable format... mostly an excuse to demonstrate tinkering with NetCDF variables."
   ]
  },
  {
   "cell_type": "code",
   "execution_count": 7,
   "metadata": {},
   "outputs": [
    {
     "name": "stdout",
     "output_type": "stream",
     "text": [
      "Original time value: 14245.5, human-readable time: 2019-01-01 12:00:00\n"
     ]
    }
   ],
   "source": [
    "time = daymet_ds.variables['time'][:] \n",
    "time_unit = daymet_ds.variables['time'].getncattr('units') \n",
    "time_cal = daymet_ds.variables['time'].getncattr('calendar') \n",
    "local_time = nc.num2date(time, units=time_unit, calendar=time_cal)\n",
    "\n",
    "print('Original time value: {}, human-readable time: {}'.format(time[0], local_time[0]))"
   ]
  },
  {
   "cell_type": "markdown",
   "metadata": {},
   "source": [
    "### Cleanup"
   ]
  },
  {
   "cell_type": "code",
   "execution_count": 8,
   "metadata": {},
   "outputs": [],
   "source": [
    "daymet_ds.close()\n",
    "shutil.rmtree(temp_dir)"
   ]
  }
 ],
 "metadata": {
  "kernelspec": {
   "display_name": "Python 3",
   "language": "python",
   "name": "python3"
  },
  "language_info": {
   "codemirror_mode": {
    "name": "ipython",
    "version": 3
   },
   "file_extension": ".py",
   "mimetype": "text/x-python",
   "name": "python",
   "nbconvert_exporter": "python",
   "pygments_lexer": "ipython3",
   "version": "3.7.7"
  }
 },
 "nbformat": 4,
 "nbformat_minor": 2
}
