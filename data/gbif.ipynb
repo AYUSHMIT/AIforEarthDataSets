{
  "cells": [
    {
      "cell_type": "markdown",
      "source": [
        "# Demo notebook for accessing GBIF data on Azure\n",
        "\n",
        "This notebook provides an example of accessing Global Biodiversity Information Facility (GBIF) occurrence data from blob storage on Azure.  Periodic snapshots of the data are stored in Parquet format.\n",
        "\n",
        "GBIF occurrence data are stored in the West Europe Azure region, so this notebook will run most efficiently on Azure compute located in West Europe.\n",
        "We recommend that substantial computation depending on GBIF data also be situated in West Europe.\n",
        "If you are using GBIF data for environmental science applications, consider applying for an [AI for Earth grant](http://aka.ms/ai4egrants) to support your compute requirements.\n",
        "\n",
        "## Imports and constants"
      ],
      "metadata": {
        "nteract": {
          "transient": {
            "deleting": false
          }
        }
      }
    },
    {
      "cell_type": "code",
      "source": [
        "%%capture\n",
        "\n",
        "!pip install \"dask[complete]\"\n",
        "!pip install \"adlfs\"\n",
        "\n",
        "import dask.dataframe as dd\n",
        "from adlfs import AzureBlobFileSystem\n",
        "\n",
        "storage_account_name = 'ai4edataeuwest'\n",
        "# TODO: make dataset public\n",
        "sas_token = REDACTED\n",
        "folder_name = 'gbif/occurrence'\n"
      ],
      "outputs": [],
      "execution_count": 1,
      "metadata": {
        "gather": {
          "logged": 1618238166691
        },
        "jupyter": {
          "outputs_hidden": true
        }
      }
    },
    {
      "cell_type": "markdown",
      "source": [
        "## Listing the data files\n",
        "\n",
        "GBIF provide an export of occurrence data under the Creative Commons Zero and Creative Commons By-Attribution licenses.  A dataset is uploaded periodically containing georeferenced records available under either license.\n",
        "\n",
        "We can use `adlfs` to view the available data exports:"
      ],
      "metadata": {
        "nteract": {
          "transient": {
            "deleting": false
          }
        }
      }
    },
    {
      "cell_type": "code",
      "source": [
        "fs = AzureBlobFileSystem(account_name=storage_account_name, sas_token=sas_token)\n",
        "export_folders = fs.glob(folder_name + '/20*')\n",
        "print('Found {} GBIF data exports'.format(len(export_folders)))\n",
        "for k in range(0,len(export_folders)):\n",
        "    print(export_folders[k])"
      ],
      "outputs": [
        {
          "output_type": "stream",
          "name": "stdout",
          "text": [
            "Found 1 GBIF data exports\n",
            "gbif/occurrence/2021-04-13\n"
          ]
        }
      ],
      "execution_count": 2,
      "metadata": {
        "collapsed": true,
        "jupyter": {
          "source_hidden": false,
          "outputs_hidden": false
        },
        "nteract": {
          "transient": {
            "deleting": false
          }
        },
        "gather": {
          "logged": 1618319312245
        }
      }
    },
    {
      "cell_type": "markdown",
      "source": [
        "We can then list the files within one of these exports, in this case the last (most recent) one:"
      ],
      "metadata": {
        "nteract": {
          "transient": {
            "deleting": false
          }
        }
      }
    },
    {
      "cell_type": "code",
      "source": [
        "data_path = export_folders[-1]\n",
        "\n",
        "fs = AzureBlobFileSystem(account_name=storage_account_name, sas_token=sas_token)\n",
        "parquet_files = fs.glob(data_path + '/occurrence.parquet/*')\n",
        "print('Found {} Parquet files in export {}'.format(len(parquet_files), data_path))\n",
        "for k in range(0,5):\n",
        "    print('    ' + parquet_files[k])\n",
        "print('    …')"
      ],
      "outputs": [
        {
          "output_type": "stream",
          "name": "stdout",
          "text": [
            "Found 901 Parquet files in export gbif/occurrence/2021-04-13\n",
            "    gbif/occurrence/2021-04-13/occurrence.parquet/000000\n",
            "    gbif/occurrence/2021-04-13/occurrence.parquet/000001\n",
            "    gbif/occurrence/2021-04-13/occurrence.parquet/000002\n",
            "    gbif/occurrence/2021-04-13/occurrence.parquet/000003\n",
            "    gbif/occurrence/2021-04-13/occurrence.parquet/000004\n",
            "    …\n"
          ]
        }
      ],
      "execution_count": 3,
      "metadata": {
        "collapsed": true,
        "jupyter": {
          "source_hidden": false,
          "outputs_hidden": false
        },
        "nteract": {
          "transient": {
            "deleting": false
          }
        },
        "gather": {
          "logged": 1618319312671
        }
      }
    },
    {
      "cell_type": "markdown",
      "source": [
        "## Opening one data file\n",
        "\n",
        "The whole occurrence dataset has hundreds of millions of records, split across around 100 Parquet files.  We will open just one."
      ],
      "metadata": {
        "nteract": {
          "transient": {
            "deleting": false
          }
        }
      }
    },
    {
      "cell_type": "code",
      "source": [
        "print(data_path)\n",
        "df = dd.read_parquet('az://' + parquet_files[0], storage_options={'account_name':storage_account_name, 'sas_token':sas_token}).compute()\n",
        "print(df.head())"
      ],
      "outputs": [
        {
          "output_type": "stream",
          "name": "stdout",
          "text": [
            "gbif/occurrence/2021-04-13\n",
            "       gbifid                            datasetkey occurrenceid  \\\n",
            "0  2305838350  ad43e954-dd79-4986-ae34-9ccdbd8bf568     KM953194   \n",
            "1  2305838837  ad43e954-dd79-4986-ae34-9ccdbd8bf568     KR568679   \n",
            "2  2305839278  ad43e954-dd79-4986-ae34-9ccdbd8bf568     KR746879   \n",
            "3  2305839610  ad43e954-dd79-4986-ae34-9ccdbd8bf568     JN257280   \n",
            "4  2305840564  ad43e954-dd79-4986-ae34-9ccdbd8bf568     MF731456   \n",
            "\n",
            "          kingdom      phylum    class      order         family       genus  \\\n",
            "0        Animalia  Arthropoda  Insecta    Diptera      Sciaridae        None   \n",
            "1        Animalia  Arthropoda  Insecta  Hemiptera      Aphididae  Myzocallis   \n",
            "2        Animalia  Arthropoda  Insecta    Diptera  Cecidomyiidae        None   \n",
            "3  incertae sedis        None     None       None           None        None   \n",
            "4        Animalia  Arthropoda  Insecta    Diptera   Chironomidae  Limnophyes   \n",
            "\n",
            "  species  ...       identifiedby dateidentified    license rightsholder  \\\n",
            "0    None  ...               None           None  CC_BY_4_0         None   \n",
            "1    None  ...               None           None  CC_BY_4_0         None   \n",
            "2    None  ...  Gergin A. Blagoev           None  CC_BY_4_0         None   \n",
            "3    None  ...               None           None  CC_BY_4_0         None   \n",
            "4    None  ...         Kate Perez           None  CC_BY_4_0         None   \n",
            "\n",
            "            recordedby typestatus establishmentmeans  \\\n",
            "0          BIOBus 2012       None               None   \n",
            "1  Thousand Islands NP       None               None   \n",
            "2          Paul Hebert       None               None   \n",
            "3                 None       None               None   \n",
            "4          BIObus 2013       None               None   \n",
            "\n",
            "            lastinterpreted mediatype  \\\n",
            "0  2021-03-30T12:22:21.593Z        []   \n",
            "1  2021-03-30T12:22:22.627Z        []   \n",
            "2  2021-03-30T12:22:54.519Z        []   \n",
            "3  2021-03-30T12:22:22.628Z        []   \n",
            "4  2021-03-30T12:22:22.629Z        []   \n",
            "\n",
            "                                               issue  \n",
            "0  [COUNTRY_DERIVED_FROM_COORDINATES, GEODETIC_DA...  \n",
            "1  [COUNTRY_DERIVED_FROM_COORDINATES, GEODETIC_DA...  \n",
            "2  [COUNTRY_DERIVED_FROM_COORDINATES, GEODETIC_DA...  \n",
            "3  [COUNTRY_DERIVED_FROM_COORDINATES, GEODETIC_DA...  \n",
            "4  [COUNTRY_DERIVED_FROM_COORDINATES, GEODETIC_DA...  \n",
            "\n",
            "[5 rows x 50 columns]\n"
          ]
        }
      ],
      "execution_count": 4,
      "metadata": {
        "collapsed": true,
        "jupyter": {
          "source_hidden": false,
          "outputs_hidden": false
        },
        "nteract": {
          "transient": {
            "deleting": false
          }
        },
        "gather": {
          "logged": 1618319321710
        }
      }
    },
    {
      "cell_type": "markdown",
      "source": [
        "## Plot data\n",
        "\n",
        "This is a quick plot of latitude and longitude.  We can see the shapes of continents."
      ],
      "metadata": {
        "nteract": {
          "transient": {
            "deleting": false
          }
        }
      }
    },
    {
      "cell_type": "code",
      "source": [
        "ax = df.plot.hexbin('decimallongitude', 'decimallatitude', gridsize=(360, 180),\n",
        "                    vmax=100, cmap='Greens', colorbar=False)\n",
        "ax.set_xlim(-180, 180)\n",
        "ax.set_ylim(-90, 90)"
      ],
      "outputs": [
        {
          "output_type": "execute_result",
          "execution_count": 5,
          "data": {
            "text/plain": "(-90.0, 90.0)"
          },
          "metadata": {}
        },
        {
          "output_type": "display_data",
          "data": {
            "text/plain": "<Figure size 432x288 with 1 Axes>",
            "image/png": "[encoded data removed]"
          },
          "metadata": {
            "needs_background": "light"
          }
        }
      ],
      "execution_count": 5,
      "metadata": {
        "collapsed": true,
        "jupyter": {
          "source_hidden": false,
          "outputs_hidden": false
        },
        "nteract": {
          "transient": {
            "deleting": false
          }
        },
        "gather": {
          "logged": 1618319325736
        }
      }
    },
    {
      "cell_type": "markdown",
      "source": [
        "Another plot shows the month of observation or collection."
      ],
      "metadata": {
        "nteract": {
          "transient": {
            "deleting": false
          }
        }
      }
    },
    {
      "cell_type": "code",
      "source": [
        "some_plants = df[(df.kingdom == 'Plantae')]\n",
        "ax = some_plants['month'].plot.hist(x='Month', y='Count', bins=12)\n",
        "\n",
        "ax.set_xlim(1, 12)"
      ],
      "outputs": [
        {
          "output_type": "execute_result",
          "execution_count": 6,
          "data": {
            "text/plain": "(1.0, 12.0)"
          },
          "metadata": {}
        },
        {
          "output_type": "display_data",
          "data": {
            "text/plain": "<Figure size 432x288 with 1 Axes>",
            "image/png": "[encoded data removed]"
          },
          "metadata": {
            "needs_background": "light"
          }
        }
      ],
      "execution_count": 6,
      "metadata": {
        "collapsed": true,
        "jupyter": {
          "source_hidden": false,
          "outputs_hidden": false
        },
        "nteract": {
          "transient": {
            "deleting": false
          }
        },
        "gather": {
          "logged": 1618319326129
        }
      }
    },
    {
      "cell_type": "markdown",
      "source": [
        "## Citation\n",
        "\n",
        "It's good practise to cite the data using a DOI (Digital Object Identifier), see GBIF's [Citation Guidelines](https://www.gbif.org/citation-guidelines).\n",
        "\n",
        "GBIF have a service to create a DOI covering a subset of a cloud dataset.  We need to know the DOI of the cloud dataset, and the number of occurrences we used from each contributing dataset."
      ],
      "metadata": {
        "nteract": {
          "transient": {
            "deleting": false
          }
        }
      }
    },
    {
      "cell_type": "code",
      "source": [
        "print(fs.cat(data_path + '/citation.txt').decode(\"unicode_escape\"))\n",
        "\n",
        "# This is the usage of the month graph, which only used plants:\n",
        "some_plants.groupby(by='datasetkey')['gbifid'].count().reset_index(name='count').sort_values(['count'], ascending=False)"
      ],
      "outputs": [
        {
          "output_type": "stream",
          "name": "stdout",
          "text": [
            "GBIF Occurrence Data https://doi.org/10.15468/dl.79tfrn\n",
            "\n",
            "For citation guidelines, including how to create a DOI for a subset of this dataset, please visit https://www.gbif.org/citation-guidelines#derivedDatasets\n",
            "\n"
          ]
        },
        {
          "output_type": "execute_result",
          "execution_count": 7,
          "data": {
            "text/plain": "                              datasetkey  count\n3   ad43e954-dd79-4986-ae34-9ccdbd8bf568  33112\n7   b124e1e0-4755-430f-9eab-894f25a9b59c  24432\n9   be9a09a9-7eb8-4f74-b4a7-e4247c580ee9   7363\n12  c1fc2df7-223b-4472-8998-70afb3b749ab   1898\n0   a8f27b2e-67a9-43cb-ad18-df43e0152c33   1731\n1   ac103da8-23c3-4d6e-891d-266923365893    463\n14  c28aed67-1d46-471c-bad1-e875d5515b59    405\n4   ad831fd0-4047-41ce-a7b0-568259f6a247    263\n11  c031f445-f0b2-4ad4-891e-45bf11730243    188\n5   ae379339-581e-4126-9fb1-ea1c1fc91412    150\n6   b0667eec-40cf-401f-858c-86df1781019b    131\n8   bb81513d-74ea-4733-b7b9-dc2dc190d367     32\n10  bed966df-9c01-4489-9627-6d4b87949473     23\n2   ac6c9e7c-6e97-47f5-a163-e21ab8c840b8      8\n13  c23c13a2-8159-4f83-be5e-cf08845b2dc1      4",
            "text/html": "<div>\n<style scoped>\n    .dataframe tbody tr th:only-of-type {\n        vertical-align: middle;\n    }\n\n    .dataframe tbody tr th {\n        vertical-align: top;\n    }\n\n    .dataframe thead th {\n        text-align: right;\n    }\n</style>\n<table border=\"1\" class=\"dataframe\">\n  <thead>\n    <tr style=\"text-align: right;\">\n      <th></th>\n      <th>datasetkey</th>\n      <th>count</th>\n    </tr>\n  </thead>\n  <tbody>\n    <tr>\n      <th>3</th>\n      <td>ad43e954-dd79-4986-ae34-9ccdbd8bf568</td>\n      <td>33112</td>\n    </tr>\n    <tr>\n      <th>7</th>\n      <td>b124e1e0-4755-430f-9eab-894f25a9b59c</td>\n      <td>24432</td>\n    </tr>\n    <tr>\n      <th>9</th>\n      <td>be9a09a9-7eb8-4f74-b4a7-e4247c580ee9</td>\n      <td>7363</td>\n    </tr>\n    <tr>\n      <th>12</th>\n      <td>c1fc2df7-223b-4472-8998-70afb3b749ab</td>\n      <td>1898</td>\n    </tr>\n    <tr>\n      <th>0</th>\n      <td>a8f27b2e-67a9-43cb-ad18-df43e0152c33</td>\n      <td>1731</td>\n    </tr>\n    <tr>\n      <th>1</th>\n      <td>ac103da8-23c3-4d6e-891d-266923365893</td>\n      <td>463</td>\n    </tr>\n    <tr>\n      <th>14</th>\n      <td>c28aed67-1d46-471c-bad1-e875d5515b59</td>\n      <td>405</td>\n    </tr>\n    <tr>\n      <th>4</th>\n      <td>ad831fd0-4047-41ce-a7b0-568259f6a247</td>\n      <td>263</td>\n    </tr>\n    <tr>\n      <th>11</th>\n      <td>c031f445-f0b2-4ad4-891e-45bf11730243</td>\n      <td>188</td>\n    </tr>\n    <tr>\n      <th>5</th>\n      <td>ae379339-581e-4126-9fb1-ea1c1fc91412</td>\n      <td>150</td>\n    </tr>\n    <tr>\n      <th>6</th>\n      <td>b0667eec-40cf-401f-858c-86df1781019b</td>\n      <td>131</td>\n    </tr>\n    <tr>\n      <th>8</th>\n      <td>bb81513d-74ea-4733-b7b9-dc2dc190d367</td>\n      <td>32</td>\n    </tr>\n    <tr>\n      <th>10</th>\n      <td>bed966df-9c01-4489-9627-6d4b87949473</td>\n      <td>23</td>\n    </tr>\n    <tr>\n      <th>2</th>\n      <td>ac6c9e7c-6e97-47f5-a163-e21ab8c840b8</td>\n      <td>8</td>\n    </tr>\n    <tr>\n      <th>13</th>\n      <td>c23c13a2-8159-4f83-be5e-cf08845b2dc1</td>\n      <td>4</td>\n    </tr>\n  </tbody>\n</table>\n</div>"
          },
          "metadata": {}
        }
      ],
      "execution_count": 7,
      "metadata": {
        "collapsed": true,
        "jupyter": {
          "source_hidden": false,
          "outputs_hidden": false
        },
        "nteract": {
          "transient": {
            "deleting": false
          }
        },
        "gather": {
          "logged": 1618319326444
        }
      }
    }
  ],
  "metadata": {
    "kernelspec": {
      "name": "python3-azureml",
      "language": "python",
      "display_name": "Python 3.6 - AzureML"
    },
    "language_info": {
      "name": "python",
      "version": "3.6.9",
      "mimetype": "text/x-python",
      "codemirror_mode": {
        "name": "ipython",
        "version": 3
      },
      "pygments_lexer": "ipython3",
      "nbconvert_exporter": "python",
      "file_extension": ".py"
    },
    "kernel_info": {
      "name": "python3-azureml"
    },
    "microsoft": {
      "host": {
        "AzureML": {
          "notebookHasBeenCompleted": true
        }
      }
    },
    "nteract": {
      "version": "nteract-front-end@1.0.0"
    }
  },
  "nbformat": 4,
  "nbformat_minor": 2
}
