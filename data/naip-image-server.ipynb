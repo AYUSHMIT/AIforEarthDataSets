{
 "cells": [
  {
   "cell_type": "code",
   "execution_count": null,
   "metadata": {},
   "outputs": [],
   "source": [
    "import arcgis\n",
    "from arcgis.gis import GIS\n",
    "from arcgis.raster import ImageryLayer\n",
    "from IPython.display import Markdown, display\n",
    "\n",
    "# Following this example:\n",
    "# https://developers.arcgis.com/python/guide/using-imagery-layers/\n",
    "\n",
    "def printmd(string):\n",
    "    display(Markdown(string))"
   ]
  },
  {
   "cell_type": "code",
   "execution_count": null,
   "metadata": {},
   "outputs": [],
   "source": [
    "img_svc_url = 'https://naip.imagery1.arcgis.com/arcgis/rest/services/NAIP/ImageServer'"
   ]
  },
  {
   "cell_type": "code",
   "execution_count": null,
   "metadata": {},
   "outputs": [],
   "source": [
    "gis = GIS()\n",
    "# gis = GIS('home')"
   ]
  },
  {
   "cell_type": "code",
   "execution_count": null,
   "metadata": {},
   "outputs": [],
   "source": [
    "naip_layer = ImageryLayer(img_svc_url)"
   ]
  },
  {
   "cell_type": "code",
   "execution_count": null,
   "metadata": {},
   "outputs": [],
   "source": [
    "printmd('**Name**:<br/>' + naip_layer.properties.name)\n",
    "printmd('\\n**Description**:<br/>' + naip_layer.properties['description'])\n",
    "printmd('\\n**Capabilities**:<br/>' + naip_layer.properties.capabilities)\n",
    "printmd('\\n**Mosaic methods**:<br/>' + naip_layer.properties.allowedMosaicMethods)"
   ]
  },
  {
   "cell_type": "code",
   "execution_count": null,
   "metadata": {
    "scrolled": true
   },
   "outputs": [],
   "source": [
    "m = gis.map('Redmond, WA', zoomlevel=15)\n",
    "m.add_layer(naip_layer)\n",
    "display(m)"
   ]
  },
  {
   "cell_type": "code",
   "execution_count": null,
   "metadata": {},
   "outputs": [],
   "source": [
    "import math\n",
    "\n",
    "# Distances are measured in miles.\n",
    "#\n",
    "# Longitudes and latitudes are measured in degrees.\n",
    "#\n",
    "# Earth is assumed to be perfectly spherical.\n",
    "#\n",
    "# https://www.johndcook.com/blog/2009/04/27/converting-miles-to-degrees-longitude-or-latitude/\n",
    "\n",
    "earth_radius = 3960.0\n",
    "degrees_to_radians = math.pi/180.0\n",
    "radians_to_degrees = 180.0/math.pi\n",
    "\n",
    "def change_in_latitude(miles):\n",
    "    return (miles/earth_radius)*radians_to_degrees\n",
    "\n",
    "def change_in_longitude(latitude, miles):\n",
    "    r = earth_radius*math.cos(latitude*degrees_to_radians)\n",
    "    return (miles/r)*radians_to_degrees\n",
    "\n",
    "from geopy.geocoders import Nominatim\n",
    "\n",
    "def get_coordinates_from_address(address):\n",
    "    \"\"\"\n",
    "    Look up the lat/lon coordinates for an address.\n",
    "    \"\"\"\n",
    "    \n",
    "    geolocator = Nominatim(user_agent=\"NAIP\")\n",
    "    location = geolocator.geocode(address)\n",
    "    print('Retrieving location for address:\\n{}'.format(location.address))\n",
    "    return location.latitude, location.longitude\n",
    "\n",
    "address = '15255 NE 40th St, Redmond, WA 98052'\n",
    "lat,lon = get_coordinates_from_address(str(address))\n",
    "print('Retrieved lat/lon {},{}'.format(lat,lon))\n",
    "\n",
    "bounding_box_size_miles = 0.5\n",
    "dlat = change_in_latitude(bounding_box_size_miles/2)\n",
    "dlon  = change_in_longitude(lat,bounding_box_size_miles/2)\n",
    "\n",
    "print(dlat,dlon)"
   ]
  }
 ],
 "metadata": {
  "kernelspec": {
   "display_name": "Python 3",
   "language": "python",
   "name": "python3"
  },
  "language_info": {
   "codemirror_mode": {
    "name": "ipython",
    "version": 3
   },
   "file_extension": ".py",
   "mimetype": "text/x-python",
   "name": "python",
   "nbconvert_exporter": "python",
   "pygments_lexer": "ipython3",
   "version": "3.7.7"
  }
 },
 "nbformat": 4,
 "nbformat_minor": 4
}
