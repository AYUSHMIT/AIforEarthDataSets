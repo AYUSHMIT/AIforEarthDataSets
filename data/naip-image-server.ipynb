{
 "cells": [
  {
   "cell_type": "code",
   "execution_count": 1,
   "metadata": {},
   "outputs": [
    {
     "ename": "ModuleNotFoundError",
     "evalue": "No module named 'arcgis'",
     "output_type": "error",
     "traceback": [
      "\u001b[1;31m---------------------------------------------------------------------------\u001b[0m",
      "\u001b[1;31mModuleNotFoundError\u001b[0m                       Traceback (most recent call last)",
      "\u001b[1;32m<ipython-input-1-4e06236d2149>\u001b[0m in \u001b[0;36m<module>\u001b[1;34m\u001b[0m\n\u001b[1;32m----> 1\u001b[1;33m \u001b[1;32mimport\u001b[0m \u001b[0marcgis\u001b[0m\u001b[1;33m\u001b[0m\u001b[1;33m\u001b[0m\u001b[0m\n\u001b[0m\u001b[0;32m      2\u001b[0m \u001b[1;32mfrom\u001b[0m \u001b[0marcgis\u001b[0m\u001b[1;33m.\u001b[0m\u001b[0mgis\u001b[0m \u001b[1;32mimport\u001b[0m \u001b[0mGIS\u001b[0m\u001b[1;33m\u001b[0m\u001b[1;33m\u001b[0m\u001b[0m\n\u001b[0;32m      3\u001b[0m \u001b[1;32mfrom\u001b[0m \u001b[0marcgis\u001b[0m\u001b[1;33m.\u001b[0m\u001b[0mraster\u001b[0m \u001b[1;32mimport\u001b[0m \u001b[0mImageryLayer\u001b[0m\u001b[1;33m\u001b[0m\u001b[1;33m\u001b[0m\u001b[0m\n\u001b[0;32m      4\u001b[0m \u001b[1;32mfrom\u001b[0m \u001b[0mIPython\u001b[0m\u001b[1;33m.\u001b[0m\u001b[0mdisplay\u001b[0m \u001b[1;32mimport\u001b[0m \u001b[0mMarkdown\u001b[0m\u001b[1;33m,\u001b[0m \u001b[0mdisplay\u001b[0m\u001b[1;33m\u001b[0m\u001b[1;33m\u001b[0m\u001b[0m\n\u001b[0;32m      5\u001b[0m \u001b[1;33m\u001b[0m\u001b[0m\n",
      "\u001b[1;31mModuleNotFoundError\u001b[0m: No module named 'arcgis'"
     ]
    }
   ],
   "source": [
    "import arcgis\n",
    "from arcgis.gis import GIS\n",
    "from arcgis.raster import ImageryLayer\n",
    "from IPython.display import Markdown, display\n",
    "\n",
    "# Following this example:\n",
    "# https://developers.arcgis.com/python/guide/using-imagery-layers/\n",
    "\n",
    "def printmd(string):\n",
    "    display(Markdown(string))"
   ]
  },
  {
   "cell_type": "code",
   "execution_count": 2,
   "metadata": {},
   "outputs": [],
   "source": [
    "img_svc_url = 'https://naip.imagery1.arcgis.com/arcgis/rest/services/NAIP/ImageServer'"
   ]
  },
  {
   "cell_type": "code",
   "execution_count": 3,
   "metadata": {},
   "outputs": [],
   "source": [
    "gis = GIS()\n",
    "# gis = GIS('home')"
   ]
  },
  {
   "cell_type": "code",
   "execution_count": 4,
   "metadata": {},
   "outputs": [],
   "source": [
    "naip_layer = ImageryLayer(img_svc_url)"
   ]
  },
  {
   "cell_type": "code",
   "execution_count": 5,
   "metadata": {},
   "outputs": [
    {
     "data": {
      "text/markdown": [
       "**Name**:<br/>NAIP"
      ],
      "text/plain": [
       "<IPython.core.display.Markdown object>"
      ]
     },
     "metadata": {},
     "output_type": "display_data"
    },
    {
     "data": {
      "text/markdown": [
       "\n",
       "**Description**:<br/>"
      ],
      "text/plain": [
       "<IPython.core.display.Markdown object>"
      ]
     },
     "metadata": {},
     "output_type": "display_data"
    },
    {
     "data": {
      "text/markdown": [
       "\n",
       "**Capabilities**:<br/>Catalog,Mensuration,Pixels,Image,Metadata"
      ],
      "text/plain": [
       "<IPython.core.display.Markdown object>"
      ]
     },
     "metadata": {},
     "output_type": "display_data"
    },
    {
     "data": {
      "text/markdown": [
       "\n",
       "**Mosaic methods**:<br/>ByAttribute,Center,LockRaster"
      ],
      "text/plain": [
       "<IPython.core.display.Markdown object>"
      ]
     },
     "metadata": {},
     "output_type": "display_data"
    }
   ],
   "source": [
    "printmd('**Name**:<br/>' + naip_layer.properties.name)\n",
    "printmd('\\n**Description**:<br/>' + naip_layer.properties['description'])\n",
    "printmd('\\n**Capabilities**:<br/>' + naip_layer.properties.capabilities)\n",
    "printmd('\\n**Mosaic methods**:<br/>' + naip_layer.properties.allowedMosaicMethods)"
   ]
  },
  {
   "cell_type": "code",
   "execution_count": 7,
   "metadata": {
    "scrolled": true
   },
   "outputs": [
    {
     "data": {
      "application/vnd.jupyter.widget-view+json": {
       "model_id": "bced4b2fd9c94f4683b8658d50891ec7",
       "version_major": 2,
       "version_minor": 0
      },
      "text/plain": [
       "MapView(layout=Layout(height='400px', width='100%'))"
      ]
     },
     "metadata": {},
     "output_type": "display_data"
    },
    {
     "data": {
      "text/html": [
       "<div class=\"map-static-img-preview-e667d73d-e59d-4ec2-b7a2-d1161ad92e6a\"><img src=\"\"></img></div>"
      ],
      "text/plain": [
       "<IPython.core.display.HTML object>"
      ]
     },
     "metadata": {},
     "output_type": "display_data"
    }
   ],
   "source": [
    "m = gis.map('Redmond, WA', zoomlevel=15)\n",
    "m.add_layer(naip_layer)\n",
    "display(m)"
   ]
  },
  {
   "cell_type": "code",
   "execution_count": 16,
   "metadata": {},
   "outputs": [
    {
     "name": "stdout",
     "output_type": "stream",
     "text": [
      "Retrieving location for address:\n",
      "Microsoft Mixer, 15255, Northeast 40th Street, Microsoft West Campus, Kenilworth, Redmond, King County, Washington, 98052, United States of America\n",
      "Retrieved lat/lon 47.64433175,-122.13645425466683\n",
      "0.003617157797543076 0.0053688471804615055\n"
     ]
    }
   ],
   "source": [
    "import math\n",
    "\n",
    "# Distances are measured in miles.\n",
    "#\n",
    "# Longitudes and latitudes are measured in degrees.\n",
    "#\n",
    "# Earth is assumed to be perfectly spherical.\n",
    "#\n",
    "# https://www.johndcook.com/blog/2009/04/27/converting-miles-to-degrees-longitude-or-latitude/\n",
    "\n",
    "earth_radius = 3960.0\n",
    "degrees_to_radians = math.pi/180.0\n",
    "radians_to_degrees = 180.0/math.pi\n",
    "\n",
    "def change_in_latitude(miles):\n",
    "    return (miles/earth_radius)*radians_to_degrees\n",
    "\n",
    "def change_in_longitude(latitude, miles):\n",
    "    r = earth_radius*math.cos(latitude*degrees_to_radians)\n",
    "    return (miles/r)*radians_to_degrees\n",
    "\n",
    "from geopy.geocoders import Nominatim\n",
    "\n",
    "def get_coordinates_from_address(address):\n",
    "    \"\"\"\n",
    "    Look up the lat/lon coordinates for an address.\n",
    "    \"\"\"\n",
    "    \n",
    "    geolocator = Nominatim(user_agent=\"NAIP\")\n",
    "    location = geolocator.geocode(address)\n",
    "    print('Retrieving location for address:\\n{}'.format(location.address))\n",
    "    return location.latitude, location.longitude\n",
    "\n",
    "address = '15255 NE 40th St, Redmond, WA 98052'\n",
    "lat,lon = get_coordinates_from_address(str(address))\n",
    "print('Retrieved lat/lon {},{}'.format(lat,lon))\n",
    "\n",
    "bounding_box_size_miles = 0.5\n",
    "dlat = change_in_latitude(bounding_box_size_miles/2)\n",
    "dlon  = change_in_longitude(lat,bounding_box_size_miles/2)\n",
    "\n",
    "print(dlat,dlon)"
   ]
  }
 ],
 "metadata": {
  "kernelspec": {
   "display_name": "Python 3",
   "language": "python",
   "name": "python3"
  },
  "language_info": {
   "codemirror_mode": {
    "name": "ipython",
    "version": 3
   },
   "file_extension": ".py",
   "mimetype": "text/x-python",
   "name": "python",
   "nbconvert_exporter": "python",
   "pygments_lexer": "ipython3",
   "version": "3.8.3"
  }
 },
 "nbformat": 4,
 "nbformat_minor": 4
}
