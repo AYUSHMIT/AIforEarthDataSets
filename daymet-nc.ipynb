{
 "cells": [
  {
   "cell_type": "markdown",
   "metadata": {},
   "source": [
    "## Demo notebook for accessing Daymet data on Azure\n",
    "\n",
    "The Daymet dataset contains daily minimum temperature, maximum temperature, precipitation, shortwave radiation, vapor pressure, snow water equivalent, and day length at 1km resolution for North America. The dataset covers the period from January 1, 1980 to December 31, 2019.\n",
    "\n",
    "The Daymet dataset is maintained at [daac.ornl.gov/cgi-bin/dsviewer.pl?ds_id=1328](https://daac.ornl.gov/cgi-bin/dsviewer.pl?ds_id=1328) and mirrored on Azure Open Datasets at [aka.ms/ai4edata-daymet](https://aka.ms/ai4edata-daymet)."
   ]
  },
  {
   "cell_type": "code",
   "execution_count": null,
   "metadata": {},
   "outputs": [],
   "source": [
    "# Standard or standard-ish imports\n",
    "import os\n",
    "import tempfile\n",
    "import shutil\n",
    "import numpy as np\n",
    "import matplotlib.pyplot as plt\n",
    "import urllib.request\n",
    "\n",
    "# Less standard, but still pip- or conda-installable\n",
    "import netCDF4 as nc \n",
    "\n",
    "from azure.storage.blob import ContainerClient\n",
    "from netCDF4 import Dataset\n",
    "\n",
    "container_name = 'daymet'\n",
    "daymet_azure_storage_url = 'https://daymeteuwest.blob.core.windows.net/'\n",
    "\n",
    "daymet_container_client = ContainerClient(account_url=daymet_azure_storage_url, \n",
    "                                         container_name=container_name,\n",
    "                                         credential=None)\n",
    "\n",
    "# Temporary folder for data we need during execution of this notebook (we'll clean up\n",
    "# at the end, we promise)\n",
    "temp_dir = os.path.join(tempfile.gettempdir(),'daymet')\n",
    "os.makedirs(temp_dir,exist_ok=True)"
   ]
  },
  {
   "cell_type": "markdown",
   "metadata": {},
   "source": [
    "### Support functions"
   ]
  },
  {
   "cell_type": "code",
   "execution_count": null,
   "metadata": {},
   "outputs": [],
   "source": [
    "def download_url(url, destination_filename=None, progress_updater=None, force_download=False):\n",
    "    \"\"\"\n",
    "    Download a URL to a temporary file\n",
    "    \"\"\"\n",
    "    \n",
    "    # This is not intended to guarantee uniqueness, we just know it happens to guarantee\n",
    "    # uniqueness for this application.\n",
    "    if destination_filename is None:\n",
    "        url_as_filename = url.replace('://', '_').replace('.', '_').replace('/', '_')\n",
    "        destination_filename = \\\n",
    "            os.path.join(temp_dir,url_as_filename)\n",
    "    if (not force_download) and (os.path.isfile(destination_filename)):\n",
    "        print('Bypassing download of already-downloaded file {}'.format(os.path.basename(url)))\n",
    "        return destination_filename\n",
    "    print('Downloading file {}'.format(os.path.basename(url)),end='')\n",
    "    urllib.request.urlretrieve(url, destination_filename, progress_updater)  \n",
    "    assert(os.path.isfile(destination_filename))\n",
    "    nBytes = os.path.getsize(destination_filename)\n",
    "    print('...done, {} bytes.'.format(nBytes))\n",
    "    return destination_filename"
   ]
  },
  {
   "cell_type": "markdown",
   "metadata": {},
   "source": [
    "### List the available Daymet files\n",
    "The Daymet dataset is available for anonymous public download on Azure.  The following code shows how to list all data files that are currently available, trimmed to a specific region (hawaii, na, puertorico) and year for brevity."
   ]
  },
  {
   "cell_type": "code",
   "execution_count": null,
   "metadata": {},
   "outputs": [],
   "source": [
    "# Hawaii sounds nice...\n",
    "state_of_interest = 'hawaii'\n",
    "year_of_interest = '2019'\n",
    "\n",
    "# List the blobs in the container\n",
    "generator = daymet_container_client.list_blobs()\n",
    "for blob in generator:\n",
    "    if state_of_interest in blob.name and year_of_interest in blob.name:\n",
    "        print('Blob name: ' + blob.name)"
   ]
  },
  {
   "cell_type": "markdown",
   "metadata": {},
   "source": [
    "### Download a specific file from Azure blob storage\n",
    "This code shows how to download a specific file from Azure blob storage into the current directory.  It uses the example file daymet_v3_tmax_1980_hawaii.nc4, but you can change this as described below.  \n",
    "\n",
    "The following types of data are available: minimum temperature (tmin), maximum temperature (tmax), precipitation (prcp), shortwave radiation (srad), vapor pressure (vp), snow water equivalent (swe), and day length (dayl).  \n"
   ]
  },
  {
   "cell_type": "code",
   "execution_count": null,
   "metadata": {},
   "outputs": [],
   "source": [
    "variable = 'tmax'\n",
    "year = '2019'\n",
    "\n",
    "# Choose your location.  The following are available: hawaii, na, puertorico.  The value 'na' stands for North America.\n",
    "location = 'hawaii'\n",
    "\n",
    "granule_name = 'daymet_v3_' + variable + '_' + year + '_' + location + '.nc4'\n",
    "url = daymet_azure_storage_url + container_name + '/' + granule_name\n",
    "print(url)\n",
    "filename = download_url(url)"
   ]
  },
  {
   "cell_type": "markdown",
   "metadata": {},
   "source": [
    "### Explore the NetCDF metadata"
   ]
  },
  {
   "cell_type": "code",
   "execution_count": null,
   "metadata": {},
   "outputs": [],
   "source": [
    "daymet_ds = Dataset(filename, 'r') \n",
    "print('netCDF file format:' + ' ' + daymet_ds.file_format)\n",
    "\n",
    "print('netCDF dimensions:')\n",
    "print(daymet_ds.dimensions.keys())\n",
    "print('\\ntime dimension:')\n",
    "print(daymet_ds.dimensions['time'])\n",
    "print('x dimension:')\n",
    "print(daymet_ds.dimensions['x'])\n",
    "print('y dimension:')\n",
    "print(daymet_ds.dimensions['y'])\n",
    "print('netCDF variables:')\n",
    "print(daymet_ds.variables.keys())\n",
    "print('\\n' + variable + ' variable and attributes:')\n",
    "print(daymet_ds.variables[variable])"
   ]
  },
  {
   "cell_type": "markdown",
   "metadata": {},
   "source": [
    "### Plot temperature data\n",
    "Let's calculate the mean value for the variable that we care about, and then visualize this on a map.  If you have kept the defaults above, this is the maximum temperature.  "
   ]
  },
  {
   "cell_type": "code",
   "execution_count": null,
   "metadata": {
    "scrolled": true
   },
   "outputs": [],
   "source": [
    "# Read the whole array\n",
    "factor = daymet_ds.variables[variable][:]\n",
    "\n",
    "# Calculate mean\n",
    "factor_mean_comp = np.mean(factor, axis=0, keepdims=True)\n",
    "\n",
    "# Reshape \n",
    "x_size = daymet_ds.dimensions['x'].size\n",
    "y_size = daymet_ds.dimensions['y'].size\n",
    "factor_mean_comp.shape = (y_size,x_size)\n",
    "\n",
    "# Plot\n",
    "%matplotlib inline\n",
    "plt.rcParams['figure.figsize'] = (25,9)\n",
    "plt.imshow(factor_mean_comp, cmap='rainbow')\n",
    "plt.colorbar()"
   ]
  },
  {
   "cell_type": "markdown",
   "metadata": {},
   "source": [
    "### Time conversion\n",
    "Convert the time axis to a more human-readable format... mostly an excuse to demonstrate tinkering with NetCDF variables."
   ]
  },
  {
   "cell_type": "code",
   "execution_count": null,
   "metadata": {},
   "outputs": [],
   "source": [
    "time = daymet_ds.variables['time'][:] \n",
    "time_unit = daymet_ds.variables['time'].getncattr('units') \n",
    "time_cal = daymet_ds.variables['time'].getncattr('calendar') \n",
    "local_time = nc.num2date(time, units=time_unit, calendar=time_cal)\n",
    "\n",
    "print('Original time value: {}, human-readable time: {}'.format(time[0], local_time[0]))"
   ]
  },
  {
   "cell_type": "markdown",
   "metadata": {},
   "source": [
    "### Cleanup"
   ]
  },
  {
   "cell_type": "code",
   "execution_count": null,
   "metadata": {},
   "outputs": [],
   "source": [
    "daymet_ds.close()\n",
    "shutil.rmtree(temp_dir)"
   ]
  }
 ],
 "metadata": {
  "kernelspec": {
   "display_name": "Python 3",
   "language": "python",
   "name": "python3"
  },
  "language_info": {
   "codemirror_mode": {
    "name": "ipython",
    "version": 3
   },
   "file_extension": ".py",
   "mimetype": "text/x-python",
   "name": "python",
   "nbconvert_exporter": "python",
   "pygments_lexer": "ipython3",
   "version": "3.8.3"
  }
 },
 "nbformat": 4,
 "nbformat_minor": 2
}
