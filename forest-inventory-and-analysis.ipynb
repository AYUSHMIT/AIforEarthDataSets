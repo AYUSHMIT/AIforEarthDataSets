{
 "cells": [
  {
   "cell_type": "markdown",
   "metadata": {},
   "source": [
    "## Demo notebook for accessing FIA data on Azure\n",
    "\n",
    "This notebook provides an example of accessing USFS Forest Inventory and Analysis (FIA) data from blob storage on Azure. The data is stored in a collection of Parquet datasets.\n",
    "\n",
    "FIA data are stored in the West Europe Azure region, so this notebook will run most efficiently on Azure compute located in West Europe. We recommend that substantial computation depending on FIA data also be situated in West Europe. If you are using FIA data for environmental science applications, consider applying for an [AI for Earth grant](http://aka.ms/ai4egrants) to support your compute requirements."
   ]
  },
  {
   "cell_type": "markdown",
   "metadata": {},
   "source": [
    "### Imports and constants"
   ]
  },
  {
   "cell_type": "code",
   "execution_count": null,
   "metadata": {},
   "outputs": [],
   "source": [
    "import dask.dataframe as dd\n",
    "from adlfs import AzureBlobFileSystem\n",
    "\n",
    "storage_account_name = 'cpdataeuwest'\n",
    "folder_name = 'cpdata/raw/fia'"
   ]
  },
  {
   "cell_type": "markdown",
   "metadata": {},
   "source": [
    "### Listing the data files\n",
    "\n",
    "The full set of FIA data tables are available (e.g. tree, plot, condition).\n",
    "\n",
    "We can use `adlfs` to list the files:"
   ]
  },
  {
   "cell_type": "code",
   "execution_count": null,
   "metadata": {},
   "outputs": [],
   "source": [
    "fs = AzureBlobFileSystem(account_name=storage_account_name)\n",
    "parquet_files = fs.glob(folder_name + '/*parquet')\n",
    "print('Found {} Parquet files'.format(len(parquet_files)))\n",
    "for k in range(0,10):\n",
    "    print(parquet_files[k])\n",
    "print('...')"
   ]
  },
  {
   "cell_type": "markdown",
   "metadata": {},
   "source": [
    "### Opening one data file\n",
    "\n",
    "Here we demonstrate how to open the `condition` dataset:"
   ]
  },
  {
   "cell_type": "code",
   "execution_count": null,
   "metadata": {},
   "outputs": [],
   "source": [
    "df = dd.read_parquet('az://' + folder_name + '/cond.parquet',\n",
    "                     storage_options={'account_name':storage_account_name}).compute()\n",
    "df.head()"
   ]
  },
  {
   "cell_type": "markdown",
   "metadata": {},
   "source": [
    "### A quick plot\n",
    "\n",
    "Here we make a quick plot comparing the stand age to the alive basal area."
   ]
  },
  {
   "cell_type": "code",
   "execution_count": null,
   "metadata": {},
   "outputs": [],
   "source": [
    "ax = df[::100].plot.hexbin('STDAGE', 'BALIVE', gridsize=(300, 100),\n",
    "                           vmax=20, cmap='viridis', colorbar=False)\n",
    "ax.set_ylim(0, 300)\n",
    "ax.set_xlim(0, 100)"
   ]
  }
 ],
 "metadata": {
  "kernelspec": {
   "display_name": "Python 3",
   "language": "python",
   "name": "python3"
  },
  "language_info": {
   "codemirror_mode": {
    "name": "ipython",
    "version": 3
   },
   "file_extension": ".py",
   "mimetype": "text/x-python",
   "name": "python",
   "nbconvert_exporter": "python",
   "pygments_lexer": "ipython3",
   "version": "3.7.9"
  }
 },
 "nbformat": 4,
 "nbformat_minor": 4
}
