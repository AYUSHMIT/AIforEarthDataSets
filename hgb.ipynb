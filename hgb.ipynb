{
 "cells": [
  {
   "cell_type": "markdown",
   "metadata": {},
   "source": [
    "## Demo notebook for accessing Harmonized Global Biomass data on Azure\n",
    "\n",
    "This notebook provides an example of accessing the Harmonized Global Biomass (HGB) data from blob storage on Azure, including (1) looking at the directory where data is stored, (2) loading the cloud optimized geotiff for a particular year, and (3) doing some simple processing and plotting of the data.\n",
    "\n",
    "HGB data are stored in the West Europe Azure region, so this notebook will run most efficiently on Azure compute located in West Europe.  We recommend that substantial computation depending on HGB data also be situated in West Europe.  You don't want to download hundreds of terabytes to your laptop!  If you are using HGB data for environmental science applications, consider applying for an [AI for Earth grant](http://aka.ms/ai4egrants) to support your compute requirements."
   ]
  },
  {
   "cell_type": "markdown",
   "metadata": {},
   "source": [
    "### Imports and constants"
   ]
  },
  {
   "cell_type": "code",
   "execution_count": null,
   "metadata": {},
   "outputs": [],
   "source": [
    "import fsspec\n",
    "import xarray as xr\n",
    "import matplotlib.pyplot as plt \n",
    "\n",
    "storage_account_name = 'cpdataeuwest'\n",
    "container = 'cpdata'\n",
    "folder = 'raw/2010-harmonized-biomass/global/300m'"
   ]
  },
  {
   "cell_type": "markdown",
   "metadata": {},
   "source": [
    "### View available data"
   ]
  },
  {
   "cell_type": "code",
   "execution_count": null,
   "metadata": {},
   "outputs": [],
   "source": [
    "fs = fsspec.get_filesystem_class('az')(account_name=storage_account_name)\n",
    "fs.ls(path=f'{container}' + '/' + folder)"
   ]
  },
  {
   "cell_type": "code",
   "execution_count": null,
   "metadata": {},
   "outputs": [],
   "source": [
    "# Load data for aboveground biomass\n",
    "da = xr.open_rasterio(f'https://{storage_account_name}.blob.core.windows.net/' +\n",
    "                      f'{container}' + '/' + folder + '/aboveground.tif', \n",
    "                      chunks=dict(x=2560, y=2560))\n",
    "\n",
    "# Transform our data array to a dataset by selecting the only data variable ('band')\n",
    "# renaming it to something useful ('biomass')\n",
    "ds = da.to_dataset(dim='band').rename({1: 'biomass'})\n",
    "ds"
   ]
  },
  {
   "cell_type": "markdown",
   "metadata": {},
   "source": [
    "### Plot global aboveground biomass"
   ]
  },
  {
   "cell_type": "code",
   "execution_count": null,
   "metadata": {},
   "outputs": [],
   "source": [
    "# Coarsen by 100x on each dimension to get to a reasonable plotting size \n",
    "factor = 100\n",
    "coarse = ds.biomass.coarsen(dim={'x': factor, 'y': factor}, boundary='trim').mean().compute()"
   ]
  },
  {
   "cell_type": "code",
   "execution_count": null,
   "metadata": {},
   "outputs": [],
   "source": [
    "plt.figure(figsize=(10,6))\n",
    "coarse.plot()\n",
    "plt.show()"
   ]
  }
 ],
 "metadata": {
  "kernelspec": {
   "display_name": "Python 3",
   "language": "python",
   "name": "python3"
  },
  "language_info": {
   "codemirror_mode": {
    "name": "ipython",
    "version": 3
   },
   "file_extension": ".py",
   "mimetype": "text/x-python",
   "name": "python",
   "nbconvert_exporter": "python",
   "pygments_lexer": "ipython3",
   "version": "3.7.9"
  }
 },
 "nbformat": 4,
 "nbformat_minor": 4
}
