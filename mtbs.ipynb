{
 "cells": [
  {
   "cell_type": "markdown",
   "metadata": {},
   "source": [
    "## Demo notebook for accessing MTBS data on Azure\n",
    "\n",
    "This notebook provides an example of accessing Monitoring Trends in Burn Severity (MTBS) Mosiacs for CONUS and Alaska from blob storage on Azure. The data is stored in annual cloud optimized GeoTIFF files.\n",
    "\n",
    "MTBS data are stored in the West Europe Azure region, so this notebook will run most efficiently on Azure compute located in West Europe.  We recommend that substantial computation depending on MTBS data also be situated in West Europe.  You don't want to download hundreds of terabytes to your laptop!  If you are using MTBS data for environmental science applications, consider applying for an [AI for Earth grant](http://aka.ms/ai4egrants) to support your compute requirements."
   ]
  },
  {
   "cell_type": "markdown",
   "metadata": {},
   "source": [
    "### Imports and constants"
   ]
  },
  {
   "cell_type": "code",
   "execution_count": null,
   "metadata": {},
   "outputs": [],
   "source": [
    "import xarray as xr\n",
    "from adlfs import AzureBlobFileSystem\n",
    "\n",
    "# Year to investigate and plot\n",
    "year = 2018 \n",
    "\n",
    "# Storage resources\n",
    "storage_account_name = 'cpdataeuwest'\n",
    "region = 'conus' # 'conus' or 'ak'\n",
    "folder = f'cpdata/raw/mtbs/{region}/30m/severity'"
   ]
  },
  {
   "cell_type": "markdown",
   "metadata": {},
   "source": [
    "### List the data files\n",
    "\n",
    "The MTBS data on Azure is available for either the CONUS or Alaska region.\n",
    "\n",
    "We can use `adlfs` to list the files in either region:"
   ]
  },
  {
   "cell_type": "code",
   "execution_count": null,
   "metadata": {},
   "outputs": [],
   "source": [
    "fs = AzureBlobFileSystem(account_name=storage_account_name)\n",
    "mosaic_files = fs.glob(folder + '/*.tif')\n",
    "print('Found {} mosaic files:'.format(len(mosaic_files)))\n",
    "for k in range(0,10):\n",
    "    print(mosaic_files[k])\n",
    "print('...')    "
   ]
  },
  {
   "cell_type": "markdown",
   "metadata": {},
   "source": [
    "### Open one data file with xarray"
   ]
  },
  {
   "cell_type": "code",
   "execution_count": null,
   "metadata": {},
   "outputs": [],
   "source": [
    "url = 'https://' + storage_account_name + '.blob.core.windows.net/' + \\\n",
    "  folder + '/' + str(year) + '.tif'\n",
    "print('Reading data from {}'.format(url))\n",
    "da = xr.open_rasterio(url,chunks={'x': 2560, 'y': 2560})\n",
    "da"
   ]
  },
  {
   "cell_type": "markdown",
   "metadata": {},
   "source": [
    "### Plot one fire event\n",
    "\n",
    "We can select a subset of the data to make a plot over a single fire event."
   ]
  },
  {
   "cell_type": "code",
   "execution_count": null,
   "metadata": {},
   "outputs": [],
   "source": [
    "da.sel(band=1, y=slice(2.16e6, 2.08e6), \n",
    "       x=slice(None, -2.23e6)).plot.contourf(cmap='Set1_r')"
   ]
  }
 ],
 "metadata": {
  "kernelspec": {
   "display_name": "Python 3",
   "language": "python",
   "name": "python3"
  },
  "language_info": {
   "codemirror_mode": {
    "name": "ipython",
    "version": 3
   },
   "file_extension": ".py",
   "mimetype": "text/x-python",
   "name": "python",
   "nbconvert_exporter": "python",
   "pygments_lexer": "ipython3",
   "version": "3.7.9"
  }
 },
 "nbformat": 4,
 "nbformat_minor": 4
}
