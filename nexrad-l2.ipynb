{
 "cells": [
  {
   "cell_type": "markdown",
   "metadata": {},
   "source": [
    "## Demo notebook for accessing NEXRAD data on Azure\n",
    "\n",
    "This notebook provides an example of accessing NEXRAD data from blob storage on Azure, then plotting it using the fantastic [Py-ART](https://arm-doe.github.io/pyart/) library for working with radar data.\n",
    "\n",
    "We will demonstrate how to access and plot a scan given a known scan filename, as well as how to access scans by lat/lon/time.\n",
    "\n",
    "NEXRAD data are stored in the East US data center, so this notebook will run most efficiently on Azure compute located in East US.  We recommend that substantial computation depending on NEXRAD data also be situated in East US: you don't want to download hundreds of terabytes to your laptop!  If you are using NEXRAD data for environmental science applications (including weather forecasting), consider applying for an [AI for Earth grant](http://aka.ms/aiforearth) to support your compute requirements."
   ]
  },
  {
   "cell_type": "markdown",
   "metadata": {},
   "source": [
    "### Imports and environment"
   ]
  },
  {
   "cell_type": "code",
   "execution_count": 5,
   "metadata": {},
   "outputs": [],
   "source": [
    "# Standard-ish imports\n",
    "import matplotlib.pyplot as plt\n",
    "import warnings\n",
    "import urllib.request\n",
    "import tempfile\n",
    "import os\n",
    "import requests\n",
    "import shutil\n",
    "\n",
    "# Less standard, but still pip- or conda-installable\n",
    "import sqlite3\n",
    "import geopy.distance\n",
    "\n",
    "# pip install progressbar2, not progressbar\n",
    "import progressbar\n",
    "\n",
    "# Suppress some warnings generated within pyart\n",
    "import warnings; warnings.filterwarnings(\"ignore\")\n",
    "import pyart\n",
    "\n",
    "# URL of our index file\n",
    "index_db_url = 'https://nexradsa.blob.core.windows.net/nexrad-index/NEXRAD_sqllite.db'\n",
    "\n",
    "# Temporary folder for data we need during execution of this notebook (we'll clean up\n",
    "# at the end, we promise)\n",
    "temp_dir = os.path.join(tempfile.gettempdir(),'nexrad')\n",
    "os.makedirs(temp_dir,exist_ok=True)\n",
    "\n",
    "# Local copy of the index file\n",
    "index_db_file_name = os.path.join(temp_dir,'NEXRAD_sqllite.db')"
   ]
  },
  {
   "cell_type": "markdown",
   "metadata": {},
   "source": [
    "### Functions"
   ]
  },
  {
   "cell_type": "code",
   "execution_count": 6,
   "metadata": {},
   "outputs": [],
   "source": [
    "class DownloadProgressBar():\n",
    "    \"\"\"\n",
    "    https://stackoverflow.com/questions/37748105/how-to-use-progressbar-module-with-urlretrieve\n",
    "    \"\"\"\n",
    "    \n",
    "    def __init__(self):\n",
    "        self.pbar = None\n",
    "\n",
    "    def __call__(self, block_num, block_size, total_size):\n",
    "        if not self.pbar:\n",
    "            self.pbar = progressbar.ProgressBar(max_value=total_size)\n",
    "            self.pbar.start()\n",
    "            \n",
    "        downloaded = block_num * block_size\n",
    "        if downloaded < total_size:\n",
    "            self.pbar.update(downloaded)\n",
    "        else:\n",
    "            self.pbar.finish()\n",
    "            \n",
    "\n",
    "def download_url(url, destination_filename=None, progress_updater=None, force_download=False):\n",
    "    \"\"\"\n",
    "    Download a URL to a temporary file\n",
    "    \"\"\"\n",
    "    \n",
    "    # This is not intended to guarantee uniqueness, we just know it happens to guarantee\n",
    "    # uniqueness for this application.\n",
    "    if destination_filename is None:\n",
    "        url_as_filename = url.replace('://', '_').replace('.', '_').replace('/', '_')\n",
    "        destination_filename = \\\n",
    "            os.path.join(temp_dir,url_as_filename)\n",
    "    if (not force_download) and (os.path.isfile(destination_filename)):\n",
    "        print('Bypassing download of already-downloaded file {}'.format(os.path.basename(url)))\n",
    "        return destination_filename\n",
    "    print('Downloading file {}'.format(os.path.basename(url)),end='')\n",
    "    urllib.request.urlretrieve(url, destination_filename, progress_updater)  \n",
    "    assert(os.path.isfile(destination_filename))\n",
    "    nBytes = os.path.getsize(destination_filename)\n",
    "    print('...done, {} bytes.'.format(nBytes))\n",
    "    return destination_filename\n",
    "    \n",
    "\n",
    "def download_index_db():\n",
    "    \"\"\"\n",
    "    We have created an index (as SQLite db file) that tracks all records added to our NEXRAD \n",
    "    archive; this function will download that index (~40GB) to a local temporary file, if it\n",
    "    hasn't already been downloaded.  This is a much more sensible thing to do inside the East\n",
    "    US data center than outside!\n",
    "    \"\"\"\n",
    "    \n",
    "    if os.path.isfile(index_db_file_name):\n",
    "        print('Index file {} exists, bypassing download'.format(os.path.basename(index_db_file_name)))\n",
    "        return        \n",
    "    else:\n",
    "        download_url(index_db_url, index_db_file_name, DownloadProgressBar())\n",
    "\n",
    "\n",
    "def distance(lat1, lon1, lat2, lon2):\n",
    "    \"\"\"\n",
    "    Compute the distance in meters between two lat/lon coordinate pairs\n",
    "    \"\"\"\n",
    "    \n",
    "    return geopy.distance.distance((lat1, lon1), (lat2, lon2)).m\n",
    "\n",
    "\n",
    "def get_closest_coordinate(coordinate_list, lat, lon):\n",
    "    \"\"\"\n",
    "    Find the closest point in a list of lat/lon pairs, used here to find the closest radar\n",
    "    station to a given lat/lon pair.\n",
    "    \"\"\"\n",
    "    \n",
    "    return min(coordinate_list, key=lambda p: distance(lat, lon, p['lat'], p['lon']))\n",
    "\n",
    "\n",
    "def get_records(sql):\n",
    "    \"\"\"\n",
    "    Execute a SQL query on the index database; returns matching rows.\n",
    "    \"\"\"\n",
    "    \n",
    "    download_index_db()\n",
    "    conn = sqlite3.connect(index_db_file_name)\n",
    "    \n",
    "    with conn:\n",
    "        cursor = conn.execute(sql)\n",
    "        rows = cursor.fetchall()\n",
    "        return rows\n",
    "    \n",
    "\n",
    "def get_scans_for_nearest_station(lat, lon, start_date, end_date):\n",
    "    \"\"\"\n",
    "    Find all records in a given date range from the station closest to the \n",
    "    specified lat/lon pair.\n",
    "    \"\"\"\n",
    "    \n",
    "    # ICAO is the for-letter code for the station, e.g. \"KTLX\"\n",
    "    sql = 'SELECT lat, lon, ICAO, name FROM station_latlon'\n",
    "    records = get_records(sql)\n",
    "\n",
    "    coordinate_list = []\n",
    "    for row in records:\n",
    "        coordinate_list.append({'lat': row[0], 'lon': row[1],\n",
    "                                'icao': row[2], 'name': row[3]})\n",
    "    \n",
    "    # Find the coordinates of the station closest to the given latitude and longitude\n",
    "    print('Searching for the nearest station to {},{}'.format(lat,lon))\n",
    "    closest_coordinate  = get_closest_coordinate(coordinate_list, lat, lon)\n",
    "    \n",
    "    print('Nearest station ({}, {}) found at {},{}'.format(\n",
    "        closest_coordinate['icao'], closest_coordinate['name'],\n",
    "        closest_coordinate['lat'], closest_coordinate['lon']))\n",
    "    \n",
    "    # Get scans for the nearest station for a given date range\n",
    "    sql = '''SELECT * FROM station_index a INNER JOIN \\\n",
    "            station_latlon b ON a.name = b.ICAO \\\n",
    "            and (b.lat = {} and b.lon = {} and \\\n",
    "            date(a.date_time) >= '{}' \\\n",
    "            and date(a.date_time) <= '{}')'''.format(closest_coordinate['lat'], \n",
    "                                                     closest_coordinate['lon'], \n",
    "                                                     start_date, end_date)\n",
    "\n",
    "    files_info = get_records(sql)\n",
    "    return files_info\n",
    "\n",
    "\n",
    "def display_scan(filename):\n",
    "    \"\"\"\n",
    "    Use PyART to plot a NEXRAD scan stored in [filename].\n",
    "    \"\"\"\n",
    "    \n",
    "    radar = pyart.io.read_nexrad_archive(filename)\n",
    "    display = pyart.graph.RadarDisplay(radar)\n",
    "    fig = plt.figure()\n",
    "    ax = fig.add_subplot()\n",
    "    display.plot('reflectivity', 0, title='Reflectivity', ax=ax)\n",
    "    plt.show()"
   ]
  },
  {
   "cell_type": "markdown",
   "metadata": {},
   "source": [
    "### Access and plot a scan by building a filename"
   ]
  },
  {
   "cell_type": "code",
   "execution_count": 6,
   "metadata": {},
   "outputs": [
    {
     "name": "stdout",
     "output_type": "stream",
     "text": [
      "Downloading file KMXX20200902_011116_V06.ar2v...done, 7438474 bytes.\n"
     ]
    },
    {
     "data": {
      "image/png": "[encoded data removed]",
      "text/plain": [
       "<Figure size 432x288 with 2 Axes>"
      ]
     },
     "metadata": {
      "needs_background": "light"
     },
     "output_type": "display_data"
    }
   ],
   "source": [
    "year = '2020'; month = '09'; day = '02'; station = 'KMXX'; time = '011116';\n",
    "filename = station + year + month + day + '_' + time + '_V06.ar2v'\n",
    "url = 'https://nexradsa.blob.core.windows.net/nexrad-l2/' + year + '/' + month + '/' + day + \\\n",
    "   '/' + station + '/' + filename\n",
    "filename = download_url(url)\n",
    "display_scan(filename)"
   ]
  },
  {
   "cell_type": "markdown",
   "metadata": {},
   "source": [
    "### Access and plot a scan by querying location and time"
   ]
  },
  {
   "cell_type": "code",
   "execution_count": 11,
   "metadata": {},
   "outputs": [],
   "source": [
    "import datetime\n",
    "today = datetime.datetime.now()\n",
    "archive_start = today - datetime.timedelta(days=90)\n",
    "start_date = archive_start.strftime('%Y-%m-%d')\n",
    "end_date = today.strftime('%Y-%m-%d')"
   ]
  },
  {
   "cell_type": "code",
   "execution_count": null,
   "metadata": {},
   "outputs": [],
   "source": [
    "# Coordinates near Redmond, WA\n",
    "lat = 47.6740; lon = -122.1215\n",
    "\n",
    "# Find all files from the nearest station in the given date range\n",
    "#\n",
    "# The first time you call this function, it will download the ~40GB index file.\n",
    "scan_files = get_scans_for_nearest_station(lat, lon, start_date, end_date)\n",
    "\n",
    "# MDM files are not actually scans\n",
    "scan_files = [s for s in scan_files if 'MDM' not in s[6]]\n",
    "\n",
    "print('Found {} files near station: {}'.format(len(scan_files),scan_files[0][1]))\n",
    "\n",
    "# Download the first scan\n",
    "year = str(scan_files[0][2]); month = str(scan_files[0][3]); day = str(scan_files[0][4]); \n",
    "station = scan_files[0][1]; filename = scan_files[0][6]\n",
    "url = 'https://nexradsa.blob.core.windows.net/nexrad-l2/' + year.zfill(2) + '/' + \\\n",
    "month.zfill(2) + '/' + day.zfill(2) + \\\n",
    "   '/' + station + '/' + filename\n",
    "filename = download_url(url)\n",
    "display_scan(filename)"
   ]
  },
  {
   "cell_type": "markdown",
   "metadata": {},
   "source": [
    "### Clean up temporary files (including the index)"
   ]
  },
  {
   "cell_type": "code",
   "execution_count": null,
   "metadata": {},
   "outputs": [],
   "source": [
    "shutil.rmtree(temp_dir)"
   ]
  }
 ],
 "metadata": {
  "kernelspec": {
   "display_name": "Python 3",
   "language": "python",
   "name": "python3"
  },
  "language_info": {
   "codemirror_mode": {
    "name": "ipython",
    "version": 3
   },
   "file_extension": ".py",
   "mimetype": "text/x-python",
   "name": "python",
   "nbconvert_exporter": "python",
   "pygments_lexer": "ipython3",
   "version": "3.7.9"
  }
 },
 "nbformat": 4,
 "nbformat_minor": 2
}
