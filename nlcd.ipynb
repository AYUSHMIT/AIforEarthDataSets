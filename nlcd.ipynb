{
 "cells": [
  {
   "cell_type": "markdown",
   "metadata": {},
   "source": [
    "## Demo notebook for accessing NLCD data on Azure\n",
    "\n",
    "This notebook provides an example of accessing NLCD (National Land Cover Database) data from blob storage on Azure, including (1) looking at the directory where data is stored, (2) load the cloud optimized geotiff for a particular year, and (3) doing some simple processing and plotting of the data.\n",
    "\n",
    "NLCD data are stored in the West Europe Azure region, so this notebook will run most efficiently on Azure compute located in West Europe.  We recommend that substantial computation depending on NLCD data also be situated in West Europe.  You don't want to download hundreds of terabytes to your laptop!  If you are using NLCD data for environmental science applications, consider applying for an [AI for Earth grant](http://aka.ms/ai4egrants) to support your compute requirements."
   ]
  },
  {
   "cell_type": "markdown",
   "metadata": {},
   "source": [
    "### Imports and constants"
   ]
  },
  {
   "cell_type": "code",
   "execution_count": null,
   "metadata": {},
   "outputs": [],
   "source": [
    "import fsspec\n",
    "import matplotlib.pyplot as plt \n",
    "import numpy as np\n",
    "import xarray as xr\n",
    "\n",
    "account_name = 'cpdataeuwest'\n",
    "container = 'cpdata'\n",
    "year = 2001\n",
    "area = 'conus' # 'conus' or 'ak' (for Alaska)"
   ]
  },
  {
   "cell_type": "markdown",
   "metadata": {},
   "source": [
    "### View all the available nationwide land cover products"
   ]
  },
  {
   "cell_type": "code",
   "execution_count": null,
   "metadata": {},
   "outputs": [],
   "source": [
    "fs = fsspec.get_filesystem_class('az')(account_name=account_name)\n",
    "fs.ls(path=f'{container}/raw/nlcd/{area}/30m/')"
   ]
  },
  {
   "cell_type": "markdown",
   "metadata": {},
   "source": [
    "### Load data for a single year"
   ]
  },
  {
   "cell_type": "code",
   "execution_count": null,
   "metadata": {},
   "outputs": [],
   "source": [
    "da = xr.open_rasterio(f'https://{account_name}.blob.core.windows.net/' + \\\n",
    "                      f'{container}/raw/nlcd/{area}/30m/{year}.tif', \n",
    "                      chunks=dict(x=2560, y=2560))\n",
    "\n",
    "# Transform our data array to dataset by selecting the only data variable ('band'), and\n",
    "# rename it to something useful ('landcover')\n",
    "ds = da.to_dataset(dim='band').rename({1: 'landcover'})\n",
    "ds"
   ]
  },
  {
   "cell_type": "markdown",
   "metadata": {},
   "source": [
    "### Plot forest cover data"
   ]
  },
  {
   "cell_type": "code",
   "execution_count": null,
   "metadata": {},
   "outputs": [],
   "source": [
    "# Let's look at forest lands in the U.S. \n",
    "#\n",
    "# Land cover data are stored as categorical variables, and the legend for the code\n",
    "# can be found in: \n",
    "#\n",
    "# https://www.mrlc.gov/data/legends/national-land-cover-database-2016-nlcd2016-legend\n",
    "#\n",
    "# Forest lands correspond to codes 41, 42, and 43.\n",
    "\n",
    "deciduous = ds.landcover.isin([41]).astype(int)\n",
    "evergreen = ds.landcover.isin([42]).astype(int)\n",
    "mixed     = ds.landcover.isin([43]).astype(int)\n",
    "\n",
    "# Coarsen by 100x on each dimension to get to a reasonable plotting size \n",
    "factor = 100\n",
    "deciduous = deciduous.coarsen(dim={'x': factor, 'y': factor}, boundary='trim').mean().compute()\n",
    "evergreen = evergreen.coarsen(dim={'x': factor, 'y': factor}, boundary='trim').mean().compute()\n",
    "mixed = mixed.coarsen(dim={'x': factor, 'y': factor}, boundary='trim').mean().compute()"
   ]
  },
  {
   "cell_type": "code",
   "execution_count": null,
   "metadata": {},
   "outputs": [],
   "source": [
    "# Now let's plot the different forests and see their distributions in the continental US \n",
    "plt.figure(figsize=(15,4))\n",
    "\n",
    "ax = plt.subplot(1, 3, 1)\n",
    "deciduous.plot(cmap='YlGn')\n",
    "plt.title('Deciduous forest fraction')\n",
    "\n",
    "plt.subplot(1, 3, 2)\n",
    "evergreen.plot(cmap='YlGn')\n",
    "plt.title('Evergreen forest fraction')\n",
    "\n",
    "plt.subplot(1, 3, 3)\n",
    "mixed.plot(cmap='YlGn')\n",
    "plt.title('Mixed forest fraction')\n",
    "\n",
    "plt.show()\n",
    "plt.close()"
   ]
  }
 ],
 "metadata": {
  "kernelspec": {
   "display_name": "Python 3",
   "language": "python",
   "name": "python3"
  },
  "language_info": {
   "codemirror_mode": {
    "name": "ipython",
    "version": 3
   },
   "file_extension": ".py",
   "mimetype": "text/x-python",
   "name": "python",
   "nbconvert_exporter": "python",
   "pygments_lexer": "ipython3",
   "version": "3.8.3"
  }
 },
 "nbformat": 4,
 "nbformat_minor": 4
}
