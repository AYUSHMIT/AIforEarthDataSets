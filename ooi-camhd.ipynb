{
 "cells": [
  {
   "cell_type": "markdown",
   "metadata": {},
   "source": [
    "## OOI Seafloor Camera Open Datasets Example\n",
    "\n",
    "This Jupyter notebook shows how to load video data from the [OOI Seafloor Camera](https://oceanobservatories.org/instrument-class/camhd/) system deployed at Axial Volcano on the Juan de Fuca Ridge. It demonstrates the basic usage of the pycamhd library, which can be used to extract frames from the ProRes encoded Quicktime files. These data are hosted on Microsoft's [Azure Open Datasets](https://azure.microsoft.com/en-us/services/open-datasets/catalog/ooi-camhd/)."
   ]
  },
  {
   "cell_type": "markdown",
   "metadata": {},
   "source": [
    "### Imports and constants"
   ]
  },
  {
   "cell_type": "code",
   "execution_count": null,
   "metadata": {},
   "outputs": [],
   "source": [
    "# Standard packages\n",
    "import numpy as np\n",
    "import pandas as pd\n",
    "import fsspec\n",
    "import time\n",
    "import datetime\n",
    "import random\n",
    "import matplotlib.pyplot as plt\n",
    "from ipywidgets import interact\n",
    "from ipywidgets import IntSlider\n",
    "\n",
    "# Non-standard, but still pip- or conda-installable\n",
    "import pycamhd as camhd\n",
    "\n",
    "# .json file containing video metadata\n",
    "dbcamhd_url = 'https://ooiopendata.blob.core.windows.net/camhd/dbcamhd.json'"
   ]
  },
  {
   "cell_type": "markdown",
   "metadata": {},
   "source": [
    "### Load the JSON file that lists all available video files\n",
    "This file has useful information about each file in Azure Open Datasets, such as the Unix timestamp (seconds) of the first frame in each video, and the total number of frames in each video."
   ]
  },
  {
   "cell_type": "code",
   "execution_count": null,
   "metadata": {},
   "outputs": [],
   "source": [
    "with fsspec.open(dbcamhd_url) as f:\n",
    "    dbcamhd = pd.read_json(f, orient=\"records\", lines=True)\n",
    "dbcamhd.tail()"
   ]
  },
  {
   "cell_type": "markdown",
   "metadata": {},
   "source": [
    "### Choose a file to work with"
   ]
  },
  {
   "cell_type": "code",
   "execution_count": null,
   "metadata": {},
   "outputs": [],
   "source": [
    "# Find files from September 20, 2017...\n",
    "start_time = datetime.datetime(2017,9,20,0,0,0)\n",
    "end_time = datetime.datetime(2017,9,21,0,0,0)\n",
    "\n",
    "start_unixtime = time.mktime(start_time.timetuple())\n",
    "end_unixtime = time.mktime(end_time.timetuple())\n",
    "\n",
    "matching_rows = dbcamhd[dbcamhd['timestamp'].between(start_unixtime,end_unixtime)]\n",
    "matching_rows"
   ]
  },
  {
   "cell_type": "code",
   "execution_count": null,
   "metadata": {},
   "outputs": [],
   "source": [
    "# ...and choose the first file from that day.\n",
    "mov = matching_rows.iloc[0]\n",
    "mov"
   ]
  },
  {
   "cell_type": "markdown",
   "metadata": {},
   "source": [
    "### Render one frame from the video"
   ]
  },
  {
   "cell_type": "code",
   "execution_count": null,
   "metadata": {},
   "outputs": [],
   "source": [
    "def show_image(frame_number):\n",
    "    plt.rc('figure', figsize=(12, 6))\n",
    "    plt.rcParams.update({'font.size': 8})\n",
    "    frame = camhd.get_frame(mov.url, frame_number)\n",
    "    fig, ax = plt.subplots();\n",
    "    im1 = ax.imshow(frame);\n",
    "    plt.yticks(np.arange(0,1081,270))\n",
    "    plt.xticks(np.arange(0,1921,480))\n",
    "    plt.title('Deployment: %s    File: %s    Frame: %s' % (mov.deployment, mov['name'], frame_number));\n",
    "\n",
    "# Choose a random frame \n",
    "initial_frame = random.randrange(0,mov.frame_count)\n",
    "print('Showing frame {}'.format(initial_frame))\n",
    "show_image(initial_frame)"
   ]
  },
  {
   "cell_type": "markdown",
   "metadata": {},
   "source": [
    "### Interactively explore frames from the video\n",
    "We include a slider which allows any frame from this video to be shown.  If you're viewing an HTML version of this notebook, this cell will look sad, but we swear, the widget you don't see allows you to interactively view frames."
   ]
  },
  {
   "cell_type": "code",
   "execution_count": null,
   "metadata": {},
   "outputs": [],
   "source": [
    "frame_slider = IntSlider(min=0, max=mov.frame_count-1, step=1, value=initial_frame, continuous_update=False)\n",
    "interact(show_image, frame_number=frame_slider)"
   ]
  }
 ],
 "metadata": {
  "kernelspec": {
   "display_name": "Python 3",
   "language": "python",
   "name": "python3"
  },
  "language_info": {
   "codemirror_mode": {
    "name": "ipython",
    "version": 3
   },
   "file_extension": ".py",
   "mimetype": "text/x-python",
   "name": "python",
   "nbconvert_exporter": "python",
   "pygments_lexer": "ipython3",
   "version": "3.8.3"
  }
 },
 "nbformat": 4,
 "nbformat_minor": 4
}
