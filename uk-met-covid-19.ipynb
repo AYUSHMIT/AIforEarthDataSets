{
 "cells": [
  {
   "cell_type": "markdown",
   "metadata": {},
   "source": [
    "# Met Office COVID-19 response dataset\n",
    "\n",
    "This dataset is created, curated and updated for researchers looking to understand links between COVID-19 and environmental factors. \n",
    "\n",
    "For more information check out our [blog post](https://medium.com/informatics-lab/met-office-and-partners-offer-data-and-compute-platform-for-covid-19-researchers-83848ac55f5f) and the [data readme](https://metdatasa.blob.core.windows.net/covid19-response/README_data.html).\n",
    "\n",
    "We are constantly updating the available data; [subscribe to our news group](https://groups.google.com/forum/#!forum/met-office-covid-19-data-and-platform-updates/join) to stay up to date or [contact us](mailto:covid19@informaticslab.co.uk) if you have any requests or questions."
   ]
  },
  {
   "cell_type": "markdown",
   "metadata": {},
   "source": [
    "## Imports and globals\n",
    "Import the required modules, set up the default plot size and set some constants"
   ]
  },
  {
   "cell_type": "code",
   "execution_count": null,
   "metadata": {},
   "outputs": [],
   "source": [
    "import matplotlib.pyplot as plt \n",
    "import datetime\n",
    "\n",
    "from azure.storage.blob import BlobClient, ContainerClient\n",
    "from IPython.display import Markdown\n",
    "from collections import namedtuple\n",
    "\n",
    "%matplotlib inline\n",
    "plt.rcParams['figure.figsize'] = (20.0, 10.0)"
   ]
  },
  {
   "cell_type": "markdown",
   "metadata": {},
   "source": [
    "## Set up the blob client with the connection details"
   ]
  },
  {
   "cell_type": "code",
   "execution_count": null,
   "metadata": {},
   "outputs": [],
   "source": [
    "account_url  = 'https://metdatasa.blob.core.windows.net/'\n",
    "container_name = 'covid19-response'\n",
    "\n",
    "# Create the ContainerClient object which will be used to enumerate blobs\n",
    "container_client = ContainerClient(account_url=account_url,\n",
    "                                   container_name=container_name,\n",
    "                                   credential=None)"
   ]
  },
  {
   "cell_type": "markdown",
   "metadata": {},
   "source": [
    "## List the files under metoffice_global_daily/t1o5m_max"
   ]
  },
  {
   "cell_type": "code",
   "execution_count": null,
   "metadata": {},
   "outputs": [],
   "source": [
    "max_blobs = 10\n",
    "for i_blob,blob in enumerate(container_client.list_blobs(\n",
    "    name_starts_with='metoffice_global_daily/t1o5m_max')):\n",
    "    print(f'{blob.name}')\n",
    "    if i_blob >= max_blobs:\n",
    "        break"
   ]
  },
  {
   "cell_type": "markdown",
   "metadata": {},
   "source": [
    "## Get a particular file based on the data required"
   ]
  },
  {
   "cell_type": "code",
   "execution_count": null,
   "metadata": {},
   "outputs": [],
   "source": [
    "data_end = (datetime.datetime.now() - datetime.timedelta(days=9)).date()\n",
    "data_start = datetime.date(2020,1,1)\n",
    "\n",
    "def url_from_properties(model, param, freq, stat=None, day=None, hour=None):\n",
    "    \n",
    "    assert model in [\"global\",\"ukv\"]\n",
    "    assert param in [\"rain\", \"sh\", \"snow\", \"t1o5m\", \"pmsl\",\"precip\",\"sw\"]\n",
    "    assert freq in [\"daily\",\"hourly\"]\n",
    "    if freq == 'daily':\n",
    "        assert stat in ['max', 'min', 'mean']\n",
    "    else:\n",
    "        assert stat is None  \n",
    "    assert data_start <= day <= data_end\n",
    "    \n",
    "    stat = '_'+stat if stat else ''\n",
    "\n",
    "    filepath = f'metoffice_{model}_{freq}/{param}{stat}/{model}_{freq}_{param}{stat}_{day:%Y%m%d}.nc'\n",
    "    return f\"{account_url}/{container_name}/{filepath}\"\n",
    "\n",
    "Properties = namedtuple('Properties',[\"model\",\"param\",\"freq\",\"stat\",\"day\"])\n",
    "\n",
    "files = [\n",
    "    Properties(\"global\",\"precip\",\"daily\",\"mean\",datetime.date(2020,3,3)),\n",
    "    Properties(\"ukv\",\"t1o5m\",\"daily\",\"min\",datetime.date(2020,4,1)),\n",
    "    Properties(\"ukv\",\"snow\",\"hourly\",None,datetime.date(2020,2,2)),\n",
    "]\n",
    "\n",
    "for file in files:\n",
    "    path = url_from_properties(*file)\n",
    "    print(path.replace(account_url,''))"
   ]
  },
  {
   "cell_type": "markdown",
   "metadata": {},
   "source": [
    "## xarray and iris are useful tools for interacting with this sort of data"
   ]
  },
  {
   "cell_type": "code",
   "execution_count": null,
   "metadata": {},
   "outputs": [],
   "source": [
    "import xarray as xr\n",
    "import iris\n",
    "from io import BytesIO"
   ]
  },
  {
   "cell_type": "markdown",
   "metadata": {},
   "source": [
    "## Stream blob into memory and load dataset in xarray"
   ]
  },
  {
   "cell_type": "code",
   "execution_count": null,
   "metadata": {},
   "outputs": [],
   "source": [
    "data_description = Properties(\"global\",\"precip\",\"daily\",\"mean\",datetime.date(2020,1,30))\n",
    "file_data = BytesIO(BlobClient.from_blob_url(\n",
    "    url_from_properties(*data_description)).download_blob().readall())\n",
    "ds = xr.open_dataset(file_data)\n",
    "ds"
   ]
  },
  {
   "cell_type": "markdown",
   "metadata": {},
   "source": [
    "## Plot it with iris"
   ]
  },
  {
   "cell_type": "code",
   "execution_count": null,
   "metadata": {},
   "outputs": [],
   "source": [
    "import tempfile\n",
    "\n",
    "ds.precipitation_flux.plot()\n",
    "\n",
    "tmp = tempfile.NamedTemporaryFile(delete=False)\n",
    "data_description = Properties(\"ukv\",\"sw\",\"hourly\",None,datetime.date(2020,1,30))\n",
    "tmp.write(BlobClient.from_blob_url(\n",
    "    url_from_properties(*data_description)).download_blob().readall())\n",
    "local_path = tmp.name\n",
    "tmp.close()\n",
    "\n",
    "sw = iris.load_cube(local_path)\n",
    "sw"
   ]
  }
 ],
 "metadata": {
  "kernelspec": {
   "display_name": "Python 3",
   "language": "python",
   "name": "python3"
  },
  "language_info": {
   "codemirror_mode": {
    "name": "ipython",
    "version": 3
   },
   "file_extension": ".py",
   "mimetype": "text/x-python",
   "name": "python",
   "nbconvert_exporter": "python",
   "pygments_lexer": "ipython3",
   "version": "3.7.4"
  }
 },
 "nbformat": 4,
 "nbformat_minor": 4
}
